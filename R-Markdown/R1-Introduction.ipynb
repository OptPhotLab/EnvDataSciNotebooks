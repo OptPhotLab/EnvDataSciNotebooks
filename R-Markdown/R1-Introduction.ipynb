{
    "cells": [
        {
            "cell_type": "markdown",
            "metadata": {},
            "source": [
                "# *Readme* before starting!\n",
                "\n",
                "Welcome to Environmental Data Science introducing R session. In this\n",
                "session we start from scratch and assume no prior knowledge of R. Fill in\n",
                "the blanks as you go to test your understanding.\n",
                "\n",
                "Used R before?\n",
                "\n",
                "Did you glance at the first section and think, this is very basic? \n",
                "\n",
                "It could still be worth going through the whole notebook or \n",
                "just particular sections; there might even be something you skipped over\n",
                "first time round. \n",
                "\n",
                "On the other hand if you understand and can explain each of the \n",
                "following terms and how they relate to R, then perhaps this tutorial is\n",
                "not for you. In this session we will go over:\n",
                "\n",
                "* variable and operators \n",
                "* data types\n",
                "* objects  \n",
                "* Data structures \n",
                "* lists \n",
                "* factors\n",
                "* dataframes \n",
                "* matrices\n",
                "* functions \n",
                "* applying functions.     \n",
                "\n",
                "By the end of the session you should know what each of these terms\n",
                "refers to. \n",
                "\n",
                "As an aside, the *dictionary* of programming languages\n",
                "borrows heavily from logic and mathematics. This is especially true\n",
                "for R, which is a language desgined with mathematics (statistics) in\n",
                "mind. Knowing the mathematical meaning of a word, e.g. a matrix is \n",
                "(imprecisely) a grid of numbers, helps with knowing what R is \n",
                "aiming for.\n",
                "\n",
                "\n",
                "Let's get started!  \n",
                "\n",
                "#1.Variables and operators\n",
                "\n",
                "A **variable** is used to store your data or various information that could be\n",
                "changed.\n",
                "\n",
                "##1.1. Assign a variable using <- , ->or =\n",
                "This is how we assign a variable using <- , ->or =\n"
            ]
        },
        {
            "cell_type": "code",
            "execution_count": null,
            "metadata": {},
            "outputs": [],
            "source": [
                "x<-1\n",
                "#now we want to show the contents of x using print function \n",
                "print(x)\n"
            ]
        },
        {
            "cell_type": "markdown",
            "metadata": {},
            "source": "\n"
        },
        {
            "cell_type": "code",
            "execution_count": null,
            "metadata": {},
            "outputs": [],
            "source": [
                "y=c(12,3)\n",
                "print(y)\n"
            ]
        },
        {
            "cell_type": "markdown",
            "metadata": {},
            "source": "\n"
        },
        {
            "cell_type": "code",
            "execution_count": null,
            "metadata": {},
            "outputs": [],
            "source": [
                "c('h','i',9)->z\n",
                "print(z)\n"
            ]
        },
        {
            "cell_type": "markdown",
            "metadata": {},
            "source": [
                "##1.2. Give your variable a name!\n",
                "The name of a variable should be unique, and can consist of letters, numbers, underline or dots. The\n",
                "variable should start with: a letter or a dot (this dot cannot followed by a number), but cannot start\n",
                "with a number or underline.\n",
                "For example, can you find which variable name is not correct?\n",
                "\n",
                "x.1<-1 ; x_2<-2 ;.x<-3 ; 4y<-5 ; *_z<-6; _2<-7, .2a<-8*\n",
                "\n",
                "Try here:\n"
            ]
        },
        {
            "cell_type": "code",
            "execution_count": null,
            "metadata": {},
            "outputs": [],
            "source": [
                "\n",
                "\n"
            ]
        },
        {
            "cell_type": "markdown",
            "metadata": {},
            "source": [
                "##1.3. Data types\n",
                "\n",
                "Each variables has a **data types**. The data type of a variable is its\n",
                "defining quality, it is what it is!\n",
                "\n",
                "In R, there are several basic data types in R that we typically use:\n",
                "\n",
                "character: ‘a’ \n",
                "\n",
                "numeric: 2,0, or 5.6 \n",
                "\n",
                "integer: 4L (the L means R will store 4 as integer) \n",
                "\n",
                "logical: TRUE, FALSE\n",
                "\n",
                "The above datatypes are referred to as *atomic* in R speak.\n",
                "\n",
                "The data types of R objects can be the variable types. These variables can consist of a dataset.\n",
                "Try to find the type of above mentioned variables x,y,z using class(), and the structure of x,y,z using str()\n",
                "The common used structure of the dataset in R include:\n",
                "vector (basis), factor, matrix,array, data frame and list.\n",
                "\n",
                "##1.4. Operators \n",
                "\n",
                "we can use operator to. . .\n",
                "\n",
                "###1.4.1.Arithmetic operators\n",
                "\n",
                "add, substract, mutiply, divide, equal, expeonent: \n",
                "\n",
                "+, -, *, /, =, ^ \n"
            ]
        },
        {
            "cell_type": "code",
            "execution_count": null,
            "metadata": {},
            "outputs": [],
            "source": [
                "math1=5+6*8-9+5/6\n",
                "print(math1)\n",
                "4^3\n"
            ]
        },
        {
            "cell_type": "markdown",
            "metadata": {},
            "source": [
                "###1.4.2.Relational operators\n",
                "\n",
                "great, less, equal: **>, <, >=, <=, ==, !=**\n"
            ]
        },
        {
            "cell_type": "code",
            "execution_count": null,
            "metadata": {},
            "outputs": [],
            "source": [
                "34!=5\n",
                "\n"
            ]
        },
        {
            "cell_type": "markdown",
            "metadata": {},
            "source": [
                "###1.4.3. Logical operators\n",
                "\n",
                "and, or, not:       **&, |, !** \n"
            ]
        },
        {
            "cell_type": "code",
            "execution_count": null,
            "metadata": {},
            "outputs": [],
            "source": [
                "\n",
                "\n"
            ]
        },
        {
            "cell_type": "markdown",
            "metadata": {},
            "source": [
                "###1.4.4.Miscellaneous Operators\n",
                "\n",
                "colon operator: **:**, generate a sequence of numbers\n"
            ]
        },
        {
            "cell_type": "code",
            "execution_count": null,
            "metadata": {},
            "outputs": [],
            "source": [
                "1:10\n",
                "\n"
            ]
        },
        {
            "cell_type": "markdown",
            "metadata": {},
            "source": [
                "%in%: detect if the elements in **A** also in **B**\n",
                "\n"
            ]
        },
        {
            "cell_type": "code",
            "execution_count": null,
            "metadata": {},
            "outputs": [],
            "source": [
                "A<-1:10\n",
                "B<-3:6\n",
                "print(A%in%B)\n"
            ]
        },
        {
            "cell_type": "markdown",
            "metadata": {},
            "source": [
                "### Objects and class\n",
                "\n",
                "#2. Data structures and Control flow\n",
                "\n",
                "\n",
                "##2.1. Data structures are ...\n",
                "\n",
                "Data structures are ...\n",
                "\n",
                "###2.1.1. A vector is the first basic data structure.\n",
                "\n",
                "Vectors are one dimension array that can consist of numberic, character,or logical data. All the elements inside a vector should be one data type (numberic, character,or logical).\n",
                "\n",
                "A vector is formed using function: c(), which combines all the arguments into one common type.\n",
                "\n",
                "For example (1) Create a vector named as a, store letters of b to e into a, (2) print a, (3) check type of a, and (4) structure of a.\n"
            ]
        },
        {
            "cell_type": "code",
            "execution_count": null,
            "metadata": {},
            "outputs": [],
            "source": [
                "#(1)create a character vector: a\n",
                "a<-c('b','c','d','e')\n",
                "#(2)print: a\n",
                "print(a)\n"
            ]
        },
        {
            "cell_type": "markdown",
            "metadata": {},
            "source": "\n"
        },
        {
            "cell_type": "code",
            "execution_count": null,
            "metadata": {},
            "outputs": [],
            "source": [
                "#(3)check type of a\n",
                "class(a)\n"
            ]
        },
        {
            "cell_type": "markdown",
            "metadata": {},
            "source": "\n"
        },
        {
            "cell_type": "code",
            "execution_count": null,
            "metadata": {},
            "outputs": [],
            "source": [
                "#(4)check structure of a\n",
                "str(a)\n"
            ]
        },
        {
            "cell_type": "markdown",
            "metadata": {},
            "source": [
                "Try to (1) create a vector named as a1, store first 10 numbers into a1,(2) print a1, (3) check type of a1, and\n",
                "(4) structure of a1.\n",
                "Which type of above mentiond variable z (z<-c(‘h’,‘i’,9))?\n"
            ]
        },
        {
            "cell_type": "code",
            "execution_count": null,
            "metadata": {},
            "outputs": [],
            "source": [
                "\n",
                "\n"
            ]
        },
        {
            "cell_type": "markdown",
            "metadata": {},
            "source": [
                "###2.1.2. A matix is a two-dimentsion array in where all the elements should be same type\n",
                "\n",
                "Matices are created by matrix() function.\n"
            ]
        },
        {
            "cell_type": "code",
            "execution_count": null,
            "metadata": {},
            "outputs": [],
            "source": [
                "d<-c(1:20)\n",
                "#create a matrix\n",
                "matr1<-matrix(d,nrow = 5,ncol=4,byrow = T,\n",
                "              dimnames =list(c('r1','r2','r3','r4','r5'),\n",
                "                             c('c1','c2','c3','c4')))\n",
                "matr1\n"
            ]
        },
        {
            "cell_type": "markdown",
            "metadata": {},
            "source": "\n"
        },
        {
            "cell_type": "code",
            "execution_count": null,
            "metadata": {},
            "outputs": [],
            "source": [
                "str(matr1)\n",
                "\n"
            ]
        },
        {
            "cell_type": "markdown",
            "metadata": {},
            "source": [
                "###2.1.3. An array is similar to a matrix, but can have more than two dimensions.\n",
                "\n",
                "Arrays are created by array() function\n"
            ]
        },
        {
            "cell_type": "code",
            "execution_count": null,
            "metadata": {},
            "outputs": [],
            "source": [
                "x<-c('a1','a2','a3')\n",
                "y<-c('b1','b2')\n",
                "z<-c('c1','c2','c3','c4','c5')\n",
                "mydata<-c(1:30)\n",
                "array1<-array(mydata,c(3,2,5),\n",
                "dimnames = list(x,y,z))\n",
                "array1\n"
            ]
        },
        {
            "cell_type": "markdown",
            "metadata": {},
            "source": [
                "###2.1.4. A list can contain mant types of datasets.\n",
                "\n",
                "A list is ...\n"
            ]
        },
        {
            "cell_type": "code",
            "execution_count": null,
            "metadata": {},
            "outputs": [],
            "source": [
                "alist<-list(c('b','c','d','e'),\n",
                "            c('control','control','drought'),\n",
                "            c(1:10),\n",
                "            c(1L,3L),\n",
                "            88,\n",
                "            '%&()',\n",
                "            c(0.3,2.34,6.57,0),\n",
                "            3+9,\n",
                "            c('4','9'),\n",
                "            list(c(1,2,'g')))\n",
                "print(alist)\n"
            ]
        },
        {
            "cell_type": "markdown",
            "metadata": {},
            "source": "\n"
        },
        {
            "cell_type": "code",
            "execution_count": null,
            "metadata": {},
            "outputs": [],
            "source": [
                "class(alist)\n",
                "\n"
            ]
        },
        {
            "cell_type": "markdown",
            "metadata": {},
            "source": "\n"
        },
        {
            "cell_type": "code",
            "execution_count": null,
            "metadata": {},
            "outputs": [],
            "source": [
                "str(alist)\n",
                "\n"
            ]
        },
        {
            "cell_type": "markdown",
            "metadata": {},
            "source": [
                "##2.4. Conditions and Loops using vector: if, for, while, repeat\n",
                "\n",
                "###2.4.1. conditions\n",
                "\n",
                "if (condition) {statement} or if (condition) statement\n"
            ]
        },
        {
            "cell_type": "code",
            "execution_count": null,
            "metadata": {},
            "outputs": [],
            "source": [
                "x<-10\n",
                "if (x<5) {print('X is smaller than 5')}\n",
                "if (x>5) print('X is larger than 5')\n"
            ]
        },
        {
            "cell_type": "markdown",
            "metadata": {},
            "source": [
                "if (condition) { statement1 } else { statement2 }\n",
                "or\n",
                "if (condition) { statement1 } else if (condition2){ statement2 } else if (condition3){ statement3 } else if\n",
                "(condition4){ statement4 } else { statement5 }\n"
            ]
        },
        {
            "cell_type": "code",
            "execution_count": null,
            "metadata": {},
            "outputs": [],
            "source": [
                "y<-20\n",
                "if (y>10) {\n",
                "print ('y is larger than 10')\n",
                "} else {\n",
                "print('y is smaller than 10')\n",
                "}\n"
            ]
        },
        {
            "cell_type": "markdown",
            "metadata": {},
            "source": "\n"
        },
        {
            "cell_type": "code",
            "execution_count": null,
            "metadata": {},
            "outputs": [],
            "source": [
                "y<-20\n",
                "if (y<0) {\n",
                "print ('y is a negative number')\n",
                "} else if (y==0) {\n",
                "print('y is 0')\n",
                "} else if (y>0 & y <10) {\n",
                "print('y is greater than 0 and smaller than 10')\n",
                "} else if (y==10) {\n",
                "print ('y is 10')\n",
                "} else if (y>10 & y <20){\n",
                "print ('y is greater than 10 and smaller than 20')\n",
                "} else {\n",
                "print ('y is 20')\n",
                "}\n"
            ]
        },
        {
            "cell_type": "markdown",
            "metadata": {},
            "source": [
                "ifesle (statement, a, b) #if statement is true, print a, if false print b\n",
                "\n"
            ]
        },
        {
            "cell_type": "code",
            "execution_count": null,
            "metadata": {},
            "outputs": [],
            "source": [
                "z<-c(1,10,30)\n",
                "ifelse (z==10|z>15,'yes','no')\n"
            ]
        },
        {
            "cell_type": "markdown",
            "metadata": {},
            "source": [
                "##2.4.2. Loop\n",
                "\n",
                "for (variable in sequence) {statement}\n"
            ]
        },
        {
            "cell_type": "code",
            "execution_count": null,
            "metadata": {},
            "outputs": [],
            "source": [
                "x<-c(1:10)\n",
                "y<-2\n",
                "for (i in x){\n",
                " z<-y+x\n",
                "}\n",
                "print(z)\n"
            ]
        },
        {
            "cell_type": "markdown",
            "metadata": {},
            "source": [
                "while (condition) {statement}\n",
                "\n"
            ]
        },
        {
            "cell_type": "code",
            "execution_count": null,
            "metadata": {},
            "outputs": [],
            "source": [
                "x<-2\n",
                "while(x<10) {\n",
                "  print('yes')\n",
                "  x=x+2\n",
                "  }\n"
            ]
        },
        {
            "cell_type": "markdown",
            "metadata": {},
            "source": [
                "repeat()\n",
                "\n"
            ]
        },
        {
            "cell_type": "code",
            "execution_count": null,
            "metadata": {},
            "outputs": [],
            "source": [
                "\n",
                "\n"
            ]
        },
        {
            "cell_type": "markdown",
            "metadata": {},
            "source": [
                "#2.5 Advanced data structure: Dataframe \n",
                "\n",
                "Dataframe is the main and fundamental data structure used in R\n",
                "\n",
                "Dataframes are generated by data.frame() function, which has silimar format with the dataset we use in Excel, SPASS, SigmaPlot etc.\n",
                "\n",
                "In a dataframe: (1)the columns are variables, the rows are observations (the row numbers will be object numbers); (2) all the variables are of same length.\n"
            ]
        },
        {
            "cell_type": "code",
            "execution_count": null,
            "metadata": {},
            "outputs": [],
            "source": [
                "#create a dataframe\n",
                "x=c(1:3)\n",
                "y=c('a','b','c')\n",
                "z=c(30,40,50)\n",
                "df1<-data.frame(x,y,z)\n",
                "#print df1\n",
                "print(df1)\n"
            ]
        },
        {
            "cell_type": "markdown",
            "metadata": {},
            "source": "\n"
        },
        {
            "cell_type": "code",
            "execution_count": null,
            "metadata": {},
            "outputs": [],
            "source": [
                "#check the structure of df1\n",
                "str(df1)\n"
            ]
        },
        {
            "cell_type": "markdown",
            "metadata": {},
            "source": [
                "Try to create a new dataframe names as mydata, which has 2 variables and 4 objects:\n",
                "\n"
            ]
        },
        {
            "cell_type": "code",
            "execution_count": null,
            "metadata": {},
            "outputs": [],
            "source": [
                "\n",
                "\n"
            ]
        },
        {
            "cell_type": "markdown",
            "metadata": {},
            "source": [
                "#3. Additional data type: factors\n",
                "\n",
                "Factor is created using a vector\n",
                "\n",
                "All the elements inside this factor will be character. A factor can efficiently store characters, because only once per character is stored.\n"
            ]
        },
        {
            "cell_type": "code",
            "execution_count": null,
            "metadata": {},
            "outputs": [],
            "source": [
                "#create a vector\n",
                "treatment<-c('control','control','drought','nutrient','drought')\n",
                "#check the type of treatment\n",
                "class(treatment)\n"
            ]
        },
        {
            "cell_type": "markdown",
            "metadata": {},
            "source": "\n"
        },
        {
            "cell_type": "code",
            "execution_count": null,
            "metadata": {},
            "outputs": [],
            "source": [
                "#check the structure of treatment\n",
                "str(treatment)\n"
            ]
        },
        {
            "cell_type": "markdown",
            "metadata": {},
            "source": [
                "Now let’s create a factor and check the class and structure of this factor. \n",
                "\n",
                "Can you see the difference between **treatment** and **treatment.factor**?\n"
            ]
        },
        {
            "cell_type": "code",
            "execution_count": null,
            "metadata": {},
            "outputs": [],
            "source": [
                "#create a factor\n",
                "treatment.factor<-factor(treatment)\n",
                "#check the type\n",
                "class(treatment.factor)\n"
            ]
        },
        {
            "cell_type": "markdown",
            "metadata": {},
            "source": "\n"
        },
        {
            "cell_type": "code",
            "execution_count": null,
            "metadata": {},
            "outputs": [],
            "source": [
                "#check the structure\n",
                "str(treatment.factor)\n"
            ]
        },
        {
            "cell_type": "markdown",
            "metadata": {},
            "source": [
                "Yes, the numbers of these unique character are called levels in R, which can be examined using **levels()** function\n",
                "\n"
            ]
        },
        {
            "cell_type": "code",
            "execution_count": null,
            "metadata": {},
            "outputs": [],
            "source": [
                "#check levels of treatment.factor\n",
                "levels(treatment.factor)\n"
            ]
        },
        {
            "cell_type": "markdown",
            "metadata": {},
            "source": [
                "Try to create a factor named as **plantnum.factor** which is from a vector **plant.number** contains 5 elements\n",
                "c(1,2,3,3,2). How many levels **plantnum.factor** have, and what are they? Can you see the difference between **plant.number** and **plantnum.factor**?\n"
            ]
        },
        {
            "cell_type": "code",
            "execution_count": null,
            "metadata": {},
            "outputs": [],
            "source": [
                "\n",
                "\n"
            ]
        },
        {
            "cell_type": "markdown",
            "metadata": {},
            "source": [
                "#4. Functions and Applying functions\n",
                "\n",
                "Functions are central to the way R works; think of them as the\n",
                "building blocks of larger programs. Just like building blocks,\n",
                "functions are elements of a larger whole. If you want to take the next\n",
                "step beyond writing simple scripts, then functions are your friend!\n",
                "\n",
                "In simple terms, a function takes an input, does something to it, \n",
                "then returns something else which is the results of that something.  \n",
                "In R language, functions consist of *arguments* which are the input,\n",
                "the *body* which is the bit where things happen, and the *name*, which\n",
                "is self evident! \n",
                "\n",
                "##4.1. built-in functions\n",
                "\n",
                "Most things in R involve functions, typically these are built-in to \n",
                "the language or perhaps part of a package that you have installed.\n",
                "\n",
                "When you print something to the screen then you are using the **print** \n",
                "function:\n"
            ]
        },
        {
            "cell_type": "code",
            "execution_count": null,
            "metadata": {},
            "outputs": [],
            "source": [
                "print(\"print is a commonly used function!\")\n",
                "\n"
            ]
        },
        {
            "cell_type": "markdown",
            "metadata": {},
            "source": [
                "You can inspect the contents of a function by typing the function\n",
                "name, but missing out the paranthesis:\n"
            ]
        },
        {
            "cell_type": "code",
            "execution_count": null,
            "metadata": {},
            "outputs": [],
            "source": [
                "print\n",
                "\n"
            ]
        },
        {
            "cell_type": "markdown",
            "metadata": {},
            "source": [
                "The code inside the function is called the *body*, the input to the\n",
                "functions is referred to as the *argument*(s)\n",
                "\n",
                "Sometimes there is more than one function that achieves a similar result.\n",
                "Can you think of another function that prints messages to the screen?\n"
            ]
        },
        {
            "cell_type": "code",
            "execution_count": null,
            "metadata": {},
            "outputs": [],
            "source": [
                "\n",
                "\n"
            ]
        },
        {
            "cell_type": "markdown",
            "metadata": {},
            "source": [
                "##4.2. User-defined functions\n",
                "\n",
                "Built-in functions allow us to get stuff done, however user-defined \n",
                "functions allow us to build stuff! \n",
                "\n",
                "First we need our function to have a purpose. Maybe our instrument\n",
                "has a linear calibration function. The aim of our function is to calculate\n",
                "this calibration from out data i.e. takes an input value, \n",
                "and multiply by a calibration coefficient to yield the calibrated value. \n"
            ]
        },
        {
            "cell_type": "code",
            "execution_count": null,
            "metadata": {},
            "outputs": [],
            "source": [
                "cal.eq <- function(instrument.data,cal.coeff=2.4){ \n",
                "       instrument.data * cal.coeff\n",
                "    }\n"
            ]
        },
        {
            "cell_type": "markdown",
            "metadata": {},
            "source": [
                "Stepping through our function, one part at a time. The name of the\n",
                "function is *cal.eq*, the body of the function is  the part in \n",
                "between the curly braces. Our function has two input arguments, \n",
                "the first is *instrument.data*, and the other is our calibration\n",
                "coefficient *cal.coeff* which is set to a default value of 2.4.   \n",
                "\n",
                "Now try to test out the function with some data,\n",
                "x <- c(1:10)\n"
            ]
        },
        {
            "cell_type": "code",
            "execution_count": null,
            "metadata": {},
            "outputs": [],
            "source": [
                "\n",
                "\n"
            ]
        },
        {
            "cell_type": "markdown",
            "metadata": {},
            "source": [
                "One important note about functions; the output of an R function is\n",
                "whatever is calculated on the last line of the body. In our case we only\n",
                "have one line so that is what we get back. \n",
                "\n",
                "##4.3. The apply family and anonymous functions\n",
                "\n",
                "The *apply* family are a special group of functions that most R users\n",
                "are familiar with. In essence apply functions are similar to for loops,\n",
                "in fact in R when you find yourself reaching for a for-loop we often ask\n",
                "ourselves can we use apply instead?\n",
                "\n",
                "Apply functions iterate (repeat) a function over a datastructure. Let's\n",
                "say you have a list containing a bunch of words.\n"
            ]
        },
        {
            "cell_type": "code",
            "execution_count": null,
            "metadata": {},
            "outputs": [],
            "source": [
                "\n",
                "\n"
            ]
        },
        {
            "cell_type": "markdown",
            "metadata": {},
            "source": [
                "  \n",
                "\n",
                "apply functions come in a few different flavours  \n",
                "\n",
                "\n",
                "\n",
                "# 5. Other stuff\n",
                "\n",
                "We have only scratched the very basics of R in this tutorial. We will cover\n",
                "more  \n",
                "\n",
                "## 5.1. getting help\n",
                "\n",
                "## 5.2 installing packages \n",
                "\n",
                "## 5.3 writing scripts and running files\n",
                "\n",
                "## 5.4 Additional resources\n"
            ]
        }
    ],
    "metadata": {
        "anaconda-cloud": "",
        "kernelspec": {
            "display_name": "R",
            "langauge": "R",
            "name": "ir"
        },
        "language_info": {
            "codemirror_mode": "r",
            "file_extension": ".r",
            "mimetype": "text/x-r-source",
            "name": "R",
            "pygments_lexer": "r",
            "version": "3.4.1"
        }
    },
    "nbformat": 4,
    "nbformat_minor": 1
}
