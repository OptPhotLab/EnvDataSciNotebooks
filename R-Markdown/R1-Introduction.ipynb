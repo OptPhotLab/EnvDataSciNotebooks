{
    "cells": [
        {
            "cell_type": "markdown",
            "metadata": {},
            "source": [
                "#1.variables and Operators\n",
                "\n",
                "A variable is used to store your data or various information that could be\n",
                "changed.\n",
                "\n",
                "##1.1. Assign a variable using <- , ->or =\n",
                "This is how we assign a variable using <- , ->or =\n"
            ]
        },
        {
            "cell_type": "code",
            "execution_count": null,
            "metadata": {},
            "outputs": [],
            "source": [
                "x<-1\n",
                "#now we want to show the contents of x using print function \n",
                "print(x)\n"
            ]
        },
        {
            "cell_type": "markdown",
            "metadata": {},
            "source": "\n"
        },
        {
            "cell_type": "code",
            "execution_count": null,
            "metadata": {},
            "outputs": [],
            "source": [
                "y=c(12,3)\n",
                "print(y)\n"
            ]
        },
        {
            "cell_type": "markdown",
            "metadata": {},
            "source": "\n"
        },
        {
            "cell_type": "code",
            "execution_count": null,
            "metadata": {},
            "outputs": [],
            "source": [
                "c('h','i',9)->z\n",
                "print(z)\n"
            ]
        },
        {
            "cell_type": "markdown",
            "metadata": {},
            "source": [
                "##1.2. Names of the variables\n",
                "The name of a variable should be unique, and can consist of letters, numbers, underline or dots. The\n",
                "variable should start with: a letter or a dot (this dot cannot followed by a number), but cannot start\n",
                "with a number or underline.\n",
                "For example, can you find which variable name is not correct?\n",
                "\n",
                "x.1<-1 ; x_2<-2 ;.x<-3 ; 4y<-5 ; *_z<-6; _2<-7, .2a<-8*\n",
                "\n",
                "Try here:\n"
            ]
        },
        {
            "cell_type": "code",
            "execution_count": null,
            "metadata": {},
            "outputs": [],
            "source": [
                "\n",
                "\n"
            ]
        },
        {
            "cell_type": "markdown",
            "metadata": {},
            "source": [
                "##1.3. Data types\n",
                "\n",
                "In R, there are 4 basic data types that are widely used, namely, a single data type. \n",
                "\n",
                "character: ‘a’ \n",
                "\n",
                "numeric: 2,0, or 5.6 \n",
                "\n",
                "integer: 4L (the L means R will store 4 as integer) \n",
                "\n",
                "logical: TRUE, FALSE\n",
                "\n",
                "The data types of R objects can be the variable types. These variables can consist of a dataset.\n",
                "Try to find the type of above mentioned variables x,y,z using class(), and the structure of x,y,z using str()\n",
                "The common used structure of the dataset in R include:\n",
                "vector (basis), factor, matrix,array, data frame and list.\n",
                "\n",
                "##1.4. Operaters \n",
                "\n",
                "we can use operator to. . .\n",
                "+, -, *, /, =\n"
            ]
        },
        {
            "cell_type": "code",
            "execution_count": null,
            "metadata": {},
            "outputs": [],
            "source": [
                "math1=5+6*8-9+5/6\n",
                "print(math1)\n"
            ]
        },
        {
            "cell_type": "markdown",
            "metadata": {},
            "source": [
                "!=: not equal\n",
                "\n"
            ]
        },
        {
            "cell_type": "code",
            "execution_count": null,
            "metadata": {},
            "outputs": [],
            "source": [
                "34!=5\n",
                "\n"
            ]
        },
        {
            "cell_type": "markdown",
            "metadata": {},
            "source": [
                ": can be used to generate a sequence of numbers\n",
                "\n"
            ]
        },
        {
            "cell_type": "code",
            "execution_count": null,
            "metadata": {},
            "outputs": [],
            "source": [
                "1:10\n",
                "\n"
            ]
        },
        {
            "cell_type": "markdown",
            "metadata": {},
            "source": [
                "#2. Data structures and Control flow\n",
                "\n",
                "##2.1. A vector is the first basic data structure.\n",
                "\n",
                "Vectors are one dimension array that can consist of numberic, character,or logical data. All the elements inside a vector should be one data type (numberic, character,or logical).\n",
                "\n",
                "A vector is formed using function: c(), which combines all the arguments into one common type.\n",
                "\n",
                "For example (1) Create a vector named as a, store letters of b to e into a, (2) print a, (3) check type of a, and (4) structure of a.\n"
            ]
        },
        {
            "cell_type": "code",
            "execution_count": null,
            "metadata": {},
            "outputs": [],
            "source": [
                "#(1)create a character vector: a\n",
                "a<-c('b','c','d','e')\n",
                "#(2)print: a\n",
                "print(a)\n"
            ]
        },
        {
            "cell_type": "markdown",
            "metadata": {},
            "source": "\n"
        },
        {
            "cell_type": "code",
            "execution_count": null,
            "metadata": {},
            "outputs": [],
            "source": [
                "#(3)check type of a\n",
                "class(a)\n"
            ]
        },
        {
            "cell_type": "markdown",
            "metadata": {},
            "source": "\n"
        },
        {
            "cell_type": "code",
            "execution_count": null,
            "metadata": {},
            "outputs": [],
            "source": [
                "#(4)check structure of a\n",
                "str(a)\n"
            ]
        },
        {
            "cell_type": "markdown",
            "metadata": {},
            "source": [
                "Try to (1) create a vector named as a1, store first 10 numbers into a1,(2) print a1, (3) check type of a1, and\n",
                "(4) structure of a1.\n",
                "Which type of above mentiond variable z (z<-c(‘h’,‘i’,9))?\n"
            ]
        },
        {
            "cell_type": "code",
            "execution_count": null,
            "metadata": {},
            "outputs": [],
            "source": [
                "\n",
                "\n"
            ]
        },
        {
            "cell_type": "markdown",
            "metadata": {},
            "source": [
                "##2.1. A factor is created using a vector\n",
                "\n",
                "All the elements inside this factor will be character. A factor can efficiently store characters, because only\n",
                "once per character is stored.\n"
            ]
        },
        {
            "cell_type": "code",
            "execution_count": null,
            "metadata": {},
            "outputs": [],
            "source": [
                "#create a vector\n",
                "treatment<-c('control','control','drought','nutrient','drought')\n",
                "#check the type of treatment\n",
                "class(treatment)\n"
            ]
        },
        {
            "cell_type": "markdown",
            "metadata": {},
            "source": "\n"
        },
        {
            "cell_type": "code",
            "execution_count": null,
            "metadata": {},
            "outputs": [],
            "source": [
                "#check the structure of treatment\n",
                "str(treatment)\n"
            ]
        },
        {
            "cell_type": "markdown",
            "metadata": {},
            "source": [
                "Now let’s create a factor and check the class and structure of this factor. \n",
                "\n",
                "Can you see the difference between treatment and treatment.factor?\n"
            ]
        },
        {
            "cell_type": "code",
            "execution_count": null,
            "metadata": {},
            "outputs": [],
            "source": [
                "#create a factor\n",
                "treatment.factor<-factor(treatment)\n",
                "#check the type\n",
                "class(treatment.factor)\n"
            ]
        },
        {
            "cell_type": "markdown",
            "metadata": {},
            "source": "\n"
        },
        {
            "cell_type": "code",
            "execution_count": null,
            "metadata": {},
            "outputs": [],
            "source": [
                "#check the structure\n",
                "str(treatment.factor)\n"
            ]
        },
        {
            "cell_type": "markdown",
            "metadata": {},
            "source": [
                "Yes, the numbers of these unique character are called levels, which can be examined using levels() function\n",
                "\n"
            ]
        },
        {
            "cell_type": "code",
            "execution_count": null,
            "metadata": {},
            "outputs": [],
            "source": [
                "#check levels of treatment.factor\n",
                "levels(treatment.factor)\n"
            ]
        },
        {
            "cell_type": "markdown",
            "metadata": {},
            "source": [
                "Try to create a factor named as plantnum.factor which is from a vector plant.number contains 5 elements\n",
                "c(1,2,3,3,2). How many levels plantnum.factor have, and what are they? Can you see the difference between\n",
                "plant.number and plantnum.factor?\n"
            ]
        },
        {
            "cell_type": "code",
            "execution_count": null,
            "metadata": {},
            "outputs": [],
            "source": [
                "\n",
                "\n"
            ]
        },
        {
            "cell_type": "markdown",
            "metadata": {},
            "source": [
                "##2.2. A list can contain mant types of datasets.\n",
                "\n",
                "A list is ...\n"
            ]
        },
        {
            "cell_type": "code",
            "execution_count": null,
            "metadata": {},
            "outputs": [],
            "source": [
                "alist<-list(c('b','c','d','e'),\n",
                "            c('control','control','drought'),\n",
                "            c(1:10),\n",
                "            c(1L,3L),\n",
                "            88,\n",
                "            '%&()',\n",
                "            c(0.3,2.34,6.57,0),\n",
                "            3+9,\n",
                "            c('4','9'),\n",
                "            list(c(1,2,'g')))\n",
                "print(alist)\n"
            ]
        },
        {
            "cell_type": "markdown",
            "metadata": {},
            "source": "\n"
        },
        {
            "cell_type": "code",
            "execution_count": null,
            "metadata": {},
            "outputs": [],
            "source": [
                "class(alist)\n",
                "\n"
            ]
        },
        {
            "cell_type": "markdown",
            "metadata": {},
            "source": "\n"
        },
        {
            "cell_type": "code",
            "execution_count": null,
            "metadata": {},
            "outputs": [],
            "source": [
                "str(alist)\n",
                "\n"
            ]
        },
        {
            "cell_type": "markdown",
            "metadata": {},
            "source": [
                "##2.3. Conditions and Loops using vector: if, for, while, repeat\n",
                "\n",
                "###2.3.1. if, if else, ifelse\n",
                "\n",
                "if (condition) {statement} or if (condition) statement\n"
            ]
        },
        {
            "cell_type": "code",
            "execution_count": null,
            "metadata": {},
            "outputs": [],
            "source": [
                "x<-10\n",
                "if (x<5) {print('X is smaller than 5')}\n",
                "if (x>5) print('X is larger than 5')\n"
            ]
        },
        {
            "cell_type": "markdown",
            "metadata": {},
            "source": [
                "if (condition) { statement1 } else { statement2 }\n",
                "or\n",
                "if (condition) { statement1 } else if (condition2){ statement2 } else if (condition3){ statement3 } else if\n",
                "(condition4){ statement4 } else { statement5 }\n"
            ]
        },
        {
            "cell_type": "code",
            "execution_count": null,
            "metadata": {},
            "outputs": [],
            "source": [
                "y<-20\n",
                "if (y>10) {\n",
                "print ('y is larger than 10')\n",
                "} else {\n",
                "print('y is smaller than 10')\n",
                "}\n"
            ]
        },
        {
            "cell_type": "markdown",
            "metadata": {},
            "source": "\n"
        },
        {
            "cell_type": "code",
            "execution_count": null,
            "metadata": {},
            "outputs": [],
            "source": [
                "y<-20\n",
                "if (y<0) {\n",
                "print ('y is a negative number')\n",
                "} else if (y==0) {\n",
                "print('y is 0')\n",
                "} else if (y>0 & y <10) {\n",
                "print('y is greater than 0 and smaller than 10')\n",
                "} else if (y==10) {\n",
                "print ('y is 10')\n",
                "} else if (y>10 & y <20){\n",
                "print ('y is greater than 10 and smaller than 20')\n",
                "} else {\n",
                "print ('y is 20')\n",
                "}\n"
            ]
        },
        {
            "cell_type": "markdown",
            "metadata": {},
            "source": [
                "ifesle (statement, a, b) #if statement is true, print a, if false print b\n",
                "\n"
            ]
        },
        {
            "cell_type": "code",
            "execution_count": null,
            "metadata": {},
            "outputs": [],
            "source": [
                "z<-c(1,10,30)\n",
                "ifelse (z==10|z>15,'yes','no')\n"
            ]
        },
        {
            "cell_type": "markdown",
            "metadata": {},
            "source": [
                "##2.3.2. Loop: for, while and repeat\n",
                "\n",
                "\n",
                "#2.4 Advanced data structure: Dataframe \n",
                "\n",
                "##2.4.1 Dataframe is the main and fundamental data structure used in R\n",
                "\n",
                "Dataframes are generated by data.frame() function, which has silimar format with the dataset we use in Excel, SPASS, SigmaPlot etc.\n",
                "\n",
                "In a dataframe: (1)the columns are variables, the rows are observations (the row numbers will be object numbers); (2) all the variables are of same length.\n"
            ]
        },
        {
            "cell_type": "code",
            "execution_count": null,
            "metadata": {},
            "outputs": [],
            "source": [
                "#create a dataframe\n",
                "x=c(1:3)\n",
                "y=c('a','b','c')\n",
                "z=c(30,40,50)\n",
                "df1<-data.frame(x,y,z)\n",
                "#print df1\n",
                "print(df1)\n"
            ]
        },
        {
            "cell_type": "markdown",
            "metadata": {},
            "source": "\n"
        },
        {
            "cell_type": "code",
            "execution_count": null,
            "metadata": {},
            "outputs": [],
            "source": [
                "#check the structure of df1\n",
                "str(df1)\n"
            ]
        },
        {
            "cell_type": "markdown",
            "metadata": {},
            "source": [
                "Try to create a new dataframe names as mydata, which has 2 variables and 4 objects:\n",
                "\n"
            ]
        },
        {
            "cell_type": "code",
            "execution_count": null,
            "metadata": {},
            "outputs": [],
            "source": [
                "\n",
                "\n"
            ]
        },
        {
            "cell_type": "markdown",
            "metadata": {},
            "source": [
                "##2.3.2. A matix is a two-dimentsion array in where all the elements should be same type\n",
                "\n",
                "Matices are created by matrix() function.\n"
            ]
        },
        {
            "cell_type": "code",
            "execution_count": null,
            "metadata": {},
            "outputs": [],
            "source": [
                "d<-c(1:20)\n",
                "#create a matrix\n",
                "matr1<-matrix(d,nrow = 5,ncol=4,byrow = T,\n",
                "              dimnames =list(c('r1','r2','r3','r4','r5'),\n",
                "                             c('c1','c2','c3','c4')))\n",
                "matr1\n"
            ]
        },
        {
            "cell_type": "markdown",
            "metadata": {},
            "source": "\n"
        },
        {
            "cell_type": "code",
            "execution_count": null,
            "metadata": {},
            "outputs": [],
            "source": [
                "str(matr1)\n",
                "\n"
            ]
        },
        {
            "cell_type": "markdown",
            "metadata": {},
            "source": [
                "##2.3.3. An array is similar to a matrix, but can have more than two dimensions.\n",
                "\n",
                "Arrays are created by array() function\n"
            ]
        },
        {
            "cell_type": "code",
            "execution_count": null,
            "metadata": {},
            "outputs": [],
            "source": [
                "x<-c('a1','a2','a3')\n",
                "y<-c('b1','b2')\n",
                "z<-c('c1','c2','c3','c4','c5')\n",
                "mydata<-c(1:30)\n",
                "array1<-array(mydata,c(3,2,5),\n",
                "dimnames = list(x,y,z))\n",
                "array1\n"
            ]
        },
        {
            "cell_type": "markdown",
            "metadata": {},
            "source": [
                "#3. Functions and Applying functions\n",
                "##3.1.\n",
                "##3.2.\n",
                "##3.3. \n",
                "\n",
                "##3.4. Extral funcitons\n",
                "\n",
                "car\n"
            ]
        }
    ],
    "metadata": {
        "anaconda-cloud": "",
        "kernelspec": {
            "display_name": "R",
            "langauge": "R",
            "name": "ir"
        },
        "language_info": {
            "codemirror_mode": "r",
            "file_extension": ".r",
            "mimetype": "text/x-r-source",
            "name": "R",
            "pygments_lexer": "r",
            "version": "3.4.1"
        }
    },
    "nbformat": 4,
    "nbformat_minor": 1
}
