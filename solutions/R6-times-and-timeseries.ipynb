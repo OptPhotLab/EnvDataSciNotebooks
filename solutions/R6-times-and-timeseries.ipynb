{
    "cells": [
        {
            "cell_type": "markdown",
            "metadata": {},
            "source": [
                "# Introduction\n",
                "\n",
                "In this session we will tackle the issue of dates and timeseries.\n",
                "\n",
                "Timeseries are everywhere in environmental data.  At there most basic\n",
                "timeseries data consist of two columns (vectors) of data. The first is\n",
                "the date-time column (plotted as X-axis on graph) and the second\n",
                "column is the variable of interest that changes as a function of time.\n",
                "\n",
                "The two things we should keep in mind with timeseries data is firstly \n",
                "it is easiest to get dates into the correct date-time format as soon as \n",
                "possible, this way we can let the computer do the hard work when it comes\n",
                "to plotting etc. The next thing we should keep in mind is that there are\n",
                "any number of data analysis and statistical methods specifically designed\n",
                "for time-series data. There are also caveats related to using standard\n",
                "statistical techniques (e.g. linear regression) to time-series data, so \n",
                "watch out for these! \n",
                "   \n",
                "In this session we will explaine what dates are, show how to read\n",
                "dates in R, and we will also look at auto-correlation of timeseries,\n",
                "which are two concepts that are great importantance in timeseries\n",
                "analysis and find application in a number of different places\n",
                "(e.g. Durbin Watson statistic, ARIMA models, eddy covariance\n",
                "calculations etc).\n",
                "\n",
                "#1. What is a date and datetime exactly?\n",
                "\n",
                "The simplest representation of dates in R, is the suitably named\n",
                "*date* object. You can create one of these by converting a character\n",
                "of correct form e.g.\n",
                "\n",
                "Use the *as.Date()* function to convert *a.great.date.char* to \n",
                "*a.great.R.date*\n"
            ]
        },
        {
            "cell_type": "code",
            "execution_count": null,
            "metadata": {},
            "outputs": [],
            "source": [
                "a.great.char.date <- \"2017-10-28\"  \n",
                "typeof(a.great.char.date)\n",
                "print(a.great.char.date)\n",
                "\n",
                "a.great.R.date <- as.Date(a.great.char.date)\n",
                "print(a.great.R.date)\n"
            ]
        },
        {
            "cell_type": "markdown",
            "metadata": {},
            "source": [
                "These variables may look similar, so why don't we just use the character\n",
                "representation \"2017-10-28\" rather than the special *date* object?\n",
                "One example of the usefullness of dates is the fact that we can\n",
                "perform arithmatic with dates. Try it out; what is the difference between the \n",
                "date today *Sys.Date()* and *a.great.R.date*?\n"
            ]
        },
        {
            "cell_type": "code",
            "execution_count": null,
            "metadata": {},
            "outputs": [],
            "source": [
                "time.diff = Sys.Date() - a.great.R.date\n",
                "print(time.diff)\n"
            ]
        },
        {
            "cell_type": "markdown",
            "metadata": {},
            "source": [
                "You can also use the *Sys.time()* function to print the current date\n",
                "\n"
            ]
        },
        {
            "cell_type": "code",
            "execution_count": null,
            "metadata": {},
            "outputs": [],
            "source": [
                "Sys.Date()\n",
                "\n"
            ]
        },
        {
            "cell_type": "markdown",
            "metadata": {},
            "source": [
                "We can use a similar function to print out the current time and date\n",
                "\n"
            ]
        },
        {
            "cell_type": "code",
            "execution_count": null,
            "metadata": {},
            "outputs": [],
            "source": [
                "Sys.time()\n",
                "\n"
            ]
        },
        {
            "cell_type": "markdown",
            "metadata": {},
            "source": [
                "This is referred to as a datetime object, and is the main object type\n",
                "that we will deal with. Datetime objects objects contains date, time\n",
                "and also specifies the local timezone. We are typically interested in\n",
                "datetimes, so we will continue with those in this session. However\n",
                "keep in mind that a simple date object exists if you want to analyse\n",
                "data on a daily timestep.\n",
                "\n",
                "Let's inspect a datetime object to find out what we are dealing with:\n"
            ]
        },
        {
            "cell_type": "code",
            "execution_count": null,
            "metadata": {},
            "outputs": [],
            "source": [
                "just.before <- Sys.time()\n",
                "str(just.before)\n"
            ]
        },
        {
            "cell_type": "markdown",
            "metadata": {},
            "source": [
                "In R, datetimes are either categorised as *POSIXct* or *POSIXlt*,\n",
                "which are the different methods R uses to store the information. \n",
                "\n",
                "Can you convert *just.before* from *POSIXct* to a *POSIXlt*?:\n"
            ]
        },
        {
            "cell_type": "code",
            "execution_count": null,
            "metadata": {},
            "outputs": [],
            "source": [
                "just.before.lt <- as.POSIXlt(just.before)\n",
                "str(just.before.lt)\n"
            ]
        },
        {
            "cell_type": "markdown",
            "metadata": {},
            "source": [
                "So what's the difference then? \n",
                "\n",
                "POSIXlt stores dates as lists (remember those?). Whereas POSIXct\n",
                "stores dates as the number of seconds that have elapsed since a\n",
                "particular date (1 January 1970, which you can read\n",
                "all about here [the unix Epoch](https://en.wikipedia.org/wiki/Unix_time)).\n",
                "\n",
                "So when to use which? In all honesty I am not 100% sure. However as\n",
                "POSIXct takes less memory and is somewhat simpler then perhaps that\n",
                "is the preferred option. Probably the answer will depend on which \n",
                "ever is the preferred format of the package you are using, because\n",
                "as we now know, packages make life easy...\n",
                "\n",
                "\n",
                "#2. Reading dates from files the easy way, use *lubridate* package.\n",
                "\n",
                "## read data (See Chao's script)\n",
                "\n",
                "We have used this data before! GPP is an estimate of CO2 exchange\n",
                "of tree canopies:\n"
            ]
        },
        {
            "cell_type": "code",
            "execution_count": null,
            "metadata": {},
            "outputs": [],
            "source": [
                "gpp<-read.csv('../data/gppsmeardata_20160101120000.csv',header = T,sep = ',',dec='.')\n",
                "\n",
                "head(gpp)\n"
            ]
        },
        {
            "cell_type": "markdown",
            "metadata": {},
            "source": [
                "Our task is to take the various columns of date and time information and\n",
                "convert these to a vector of type *datetime*. Let's go step by step,\n",
                "we will start with a new character vector of date:\n"
            ]
        },
        {
            "cell_type": "code",
            "execution_count": null,
            "metadata": {},
            "outputs": [],
            "source": [
                "date.char<-paste(gpp$Year,gpp$Month,gpp$Day,sep = '-')\n",
                "\n"
            ]
        },
        {
            "cell_type": "markdown",
            "metadata": {},
            "source": [
                "do the same for time, but this time set the *sep* argument to *:*:\n",
                "\n"
            ]
        },
        {
            "cell_type": "code",
            "execution_count": null,
            "metadata": {},
            "outputs": [],
            "source": [
                "time.char<-paste(gpp$Hour,gpp$Minute,gpp$Second,sep = ':')\n",
                "\n"
            ]
        },
        {
            "cell_type": "markdown",
            "metadata": {},
            "source": "combine the two, and convert to POSIXc datetime:\n"
        },
        {
            "cell_type": "code",
            "execution_count": null,
            "metadata": {},
            "outputs": [],
            "source": [
                "gpp$datetime<-as.POSIXct(paste(date.char,time.char,sep = ' '))\n",
                "\n"
            ]
        },
        {
            "cell_type": "markdown",
            "metadata": {},
            "source": [
                "we can also add the date as a seperate column, which will be useful\n",
                "for plotting later on:\n"
            ]
        },
        {
            "cell_type": "code",
            "execution_count": null,
            "metadata": {},
            "outputs": [],
            "source": [
                "gpp$date<-as.Date(date.char)\n",
                "head(gpp$date)\n"
            ]
        },
        {
            "cell_type": "markdown",
            "metadata": {},
            "source": [
                "To make our life easier in the following selection we will use data\n",
                "measured at midday only. We can select this using our non-datetime\n",
                "columns:\n"
            ]
        },
        {
            "cell_type": "code",
            "execution_count": null,
            "metadata": {},
            "outputs": [],
            "source": [
                "gpp.midday <- subset(gpp, Hour==12)\n",
                "gpp.midday <- subset(gpp.midday, Minute==0) \n"
            ]
        },
        {
            "cell_type": "markdown",
            "metadata": {},
            "source": [
                "Remember to stick to the midday data in the following sections...\n",
                "\n",
                "## Possibly Lubridate\n",
                "\n",
                "## plot a timeseries\n",
                "\n",
                "#3. Does data remember? \n",
                "\n",
                "A key apect of analysing time-series data is understanding and dealing\n",
                "with history (or memory). History in the context of time-series refers\n",
                "to how current values (or future values) depend on past values. This\n",
                "is seen as trends in behaviour over time, and referred to as\n",
                "*non-stationary* in math jargon. Likewise *stationary* data has no\n",
                "trend, and both the mean and variabilty (variance) remains constant\n",
                "during the time-series.  \n",
                "\n",
                "Is our GPP data stationary or non-stationary? Let's graph it and find out.\n",
                "\n",
                "When we graph time-series data, we can use the *scales* package to make\n",
                "our life easier.\n"
            ]
        },
        {
            "cell_type": "code",
            "execution_count": null,
            "metadata": {},
            "outputs": [],
            "source": [
                "library(ggplot2)\n",
                "library(scales) \n"
            ]
        },
        {
            "cell_type": "markdown",
            "metadata": {},
            "source": [
                "We then use the *scale_x_date* function from scales to format the\n",
                "x-axis in 1 day time steps :\n"
            ]
        },
        {
            "cell_type": "code",
            "execution_count": null,
            "metadata": {},
            "outputs": [],
            "source": [
                "ggplot(gpp.midday,aes(x=date,y=HYY_EDDY233.GPP))+\n",
                "  geom_point()+ ylab(\"GPP [umol/m2/s]\") +\n",
                "  scale_x_date(breaks = date_breaks('1 day'),\n",
                "               labels = date_format(\"%m-%d\"))\n"
            ]
        },
        {
            "cell_type": "markdown",
            "metadata": {},
            "source": [
                "It is impossible to read the x-axis here, so let's increase the time-step\n",
                "to more days, you can also change the *date_format argument* to \n",
                "*%b-%d* as well if you like:\n"
            ]
        },
        {
            "cell_type": "code",
            "execution_count": null,
            "metadata": {},
            "outputs": [],
            "source": [
                "ggplot(gpp.midday,aes(x=date,y=HYY_EDDY233.GPP))+\n",
                "  geom_point() +  ylab(\"GPP [umol/m2/s]\") +\n",
                "  scale_x_date(breaks = date_breaks('30 day'),\n",
                "               labels = date_format(\"%b-%d\")) \n"
            ]
        },
        {
            "cell_type": "markdown",
            "metadata": {},
            "source": [
                "We have a clear seasonal pattern here, so our data is not stationary.\n",
                "\n",
                "Once we identify history in our data then we can start to do\n",
                "interesting things; we might attempt to remove the dependence (by\n",
                "differencing) or we could attempt to model the history using\n",
                "*autoregressive* techniques.\n",
                "\n",
                "## what is autocorrelation?\n",
                "\n",
                "**Autocorrelation** is a method to quantify time-series history. In\n",
                "simple terms autocorrelation is the correlation between a variable and\n",
                "itself shifted in time. The shift in time is referred to as the\n",
                "*lag*. Typically we compute autocorrelation for a whole range of lags,\n",
                "and then plot the output as an **autocorrelation function**, which is\n",
                "a plot of lag Vs correlation value. Confused? well let's walk through\n",
                "a manual example using our GPP data.\n",
                "\n",
                "\n",
                "Lagging a variable simple shifts it in time. We can do that for\n",
                "our GPP data here and plot against the original time-series\n",
                "(which is shortened to the same length). Let's lag by 30 days and\n",
                "plot the output:\n"
            ]
        },
        {
            "cell_type": "code",
            "execution_count": null,
            "metadata": {},
            "outputs": [],
            "source": [
                "lag <- 30\n",
                "n <- length(gpp.midday$HYY_EDDY233.GPP)\n",
                "gpp.lag <- gpp.midday$HYY_EDDY233.GPP[1:(n-lag)]\n",
                "gpp.short <- gpp.midday$HYY_EDDY233.GPP[(1+lag):n]  \n",
                "date.short <-  as.Date(gpp.midday$datetime[(1+lag):n]  )\n",
                "\n",
                "df.lag <- data.frame(date.short,gpp.lag,gpp.short)\n",
                "\n",
                "ggplot() + \n",
                "  geom_line(data = df.lag, aes(x = date.short, \n",
                "  y = gpp.short), color = \"red\") +\t\t \n",
                "  geom_line(data = df.lag, aes(x = date.short,\n",
                "   y = gpp.lag), color = \"blue\") + \n",
                "   ylab(\"GPP [umol/m2/s]\") +\n",
                "  scale_x_date(breaks = date_breaks('30 day'),\n",
                "               labels = date_format(\"%b-%d\")) \n"
            ]
        },
        {
            "cell_type": "markdown",
            "metadata": {},
            "source": [
                "Autocorrelation is simply the correlation between these two variables\n",
                "(the timeseries and its lagged version). The following function *lags*\n",
                "data and works out the correlation:\n"
            ]
        },
        {
            "cell_type": "code",
            "execution_count": null,
            "metadata": {},
            "outputs": [],
            "source": [
                "lag.corr <- function(ts, lag){\n",
                "  a <- ts-mean(ts) \t \n",
                "  n <- length(a)\n",
                "  b <- a[1:(n-lag)]\n",
                "  c <- a[(1+lag):n]  \n",
                "  # this line is similar to cor function\t\n",
                "  sum(b * c)/sum(a^2)\n",
                "}\n"
            ]
        },
        {
            "cell_type": "markdown",
            "metadata": {},
            "source": [
                "note that we do not use the simple *cor* function on our lagged data\n",
                "to work out correlation, because the strict definition means that we\n",
                "use this alternative method instead. Click\n",
                "[here](https://stackoverflow.com/questions/32569322/apparent-error-in-r-acf-calculation/32570260#32570260)\n",
                "to find out about the differences and see where the function came\n",
                "from.\n",
                "\n",
                "What's the GPP autocorrelation at 30 days?\n"
            ]
        },
        {
            "cell_type": "code",
            "execution_count": null,
            "metadata": {},
            "outputs": [],
            "source": [
                "lag.corr(gpp.midday$HYY_EDDY233.GPP,30)\n",
                "\n"
            ]
        },
        {
            "cell_type": "markdown",
            "metadata": {},
            "source": [
                "How about lag=0? \n",
                "\n"
            ]
        },
        {
            "cell_type": "code",
            "execution_count": null,
            "metadata": {},
            "outputs": [],
            "source": [
                "lag.corr(gpp.midday$HYY_EDDY233.GPP,0)\n",
                "\n"
            ]
        },
        {
            "cell_type": "markdown",
            "metadata": {},
            "source": [
                "that is equivalent to calculating the correlation of a time-series with\n",
                "itself!\n",
                "\n",
                "There is no need to do compute all lag values manually, we can use the\n",
                "function *acf( )* to automatically graph the \n",
                "autocorrelation function, just set the *lag.max* parameter to \n",
                "sensible value (maximum number of days),try it out on the midday *gpp* data:\n"
            ]
        },
        {
            "cell_type": "code",
            "execution_count": null,
            "metadata": {},
            "outputs": [],
            "source": [
                "z<-acf(gpp.midday$HYY_EDDY233.GPP,lag.max=100)\n",
                "\n"
            ]
        },
        {
            "cell_type": "markdown",
            "metadata": {},
            "source": [
                "You can see that for a whole bunch of lag values then we have significant\n",
                "correlation, this means (as is somewhat obvious) that our data shows\n",
                "autocorrelation i.e. trends over time.\n",
                "\n",
                "Let's double check our manual calculation:\n"
            ]
        },
        {
            "cell_type": "code",
            "execution_count": null,
            "metadata": {},
            "outputs": [],
            "source": [
                "lag.corr(gpp.midday$HYY_EDDY233.GPP,25)\n",
                "z[25]\n"
            ]
        },
        {
            "cell_type": "markdown",
            "metadata": {},
            "source": [
                "# Putting our new knowledge to work: cross correlation.\n",
                "\n",
                "What we have done so far is a little theoretical, how can\n",
                "we use this information to learn something about our data? For \n",
                "that we need a theory...\n",
                "\n",
                "In the boreal regions we think that (air) temperature is really a key\n",
                "variable that preceeds GPP seasonality. Therefore it is reasonable\n",
                "to assume that GPP lags temperature by some number of days. \n",
                "Can we show this? Can we even work out an estimate of the lag? \n",
                "\n",
                "Let's load some temperature data:\n"
            ]
        },
        {
            "cell_type": "code",
            "execution_count": null,
            "metadata": {},
            "outputs": [],
            "source": [
                "T168<-read.csv('../data/T168_20160101120000.csv',header = T,sep = ',',dec='.')\n",
                "\n",
                "head(T168)\n"
            ]
        },
        {
            "cell_type": "markdown",
            "metadata": {},
            "source": [
                "Extract midday values, like our GPP:\n",
                "\n"
            ]
        },
        {
            "cell_type": "code",
            "execution_count": null,
            "metadata": {},
            "outputs": [],
            "source": [
                "T168.midday <- subset(T168, Hour==12)\n",
                "T168.midday <- subset(T168.midday, Minute==0) \n"
            ]
        },
        {
            "cell_type": "markdown",
            "metadata": {},
            "source": [
                "When we plot GPP and temperature together, what do we see?\n",
                "\n"
            ]
        },
        {
            "cell_type": "code",
            "execution_count": null,
            "metadata": {},
            "outputs": [],
            "source": [
                "gpp.midday$HYY_META.T168 <- T168.midday$HYY_META.T168\n",
                "\n",
                "ggplot() + \n",
                "  geom_line(data = gpp.midday, aes(x = date, \n",
                "  y = HYY_EDDY233.GPP), color = \"red\") +\t\t \n",
                "  geom_line(data = gpp.midday, aes(x = date,\n",
                "   y = HYY_META.T168), color = \"blue\") + \n",
                "   \n",
                "  scale_x_date(breaks = date_breaks('30 day'),\n",
                "               labels = date_format(\"%b-%d\")) \n"
            ]
        },
        {
            "cell_type": "markdown",
            "metadata": {},
            "source": [
                "Now here comes the new bit, where we apply *cross-correlation*. \n",
                "Cross-correlation is just like auto-correlation, only we calculate\n",
                "lags between two *different* variables, at differing lags. This\n",
                "allows us to estimate the lag at which maximum correlation occurs. \n",
                "\n",
                "Let's try out the R built in *ccf()*, first we have to remove interpolate\n",
                "a few missing values in T168 as ccf does not like these. We can use\n",
                "zoo package to fill in missing values:\n"
            ]
        },
        {
            "cell_type": "code",
            "execution_count": null,
            "metadata": {},
            "outputs": [],
            "source": [
                "library(zoo)\n",
                "gpp.midday$HYY_META.T168i <- na.approx(gpp.midday$HYY_META.T168)\n",
                "\n",
                "sum(is.na(gpp.midday$HYY_META.T168))\n",
                "sum(is.na(gpp.midday$HYY_META.T168i))\n"
            ]
        },
        {
            "cell_type": "markdown",
            "metadata": {},
            "source": [
                "Finally, time to try out the ccf and find out if GPP lags temperature:\n",
                "\n"
            ]
        },
        {
            "cell_type": "code",
            "execution_count": null,
            "metadata": {},
            "outputs": [],
            "source": [
                "ccf(gpp.midday$HYY_EDDY233.GPP,gpp.midday$HYY_META.T168i,lag.max=40)\n",
                "\n"
            ]
        },
        {
            "cell_type": "markdown",
            "metadata": {},
            "source": [
                "The positive lag shows that GPP does indeed follow temperature. \n",
                "Although in the maximum correlation occurs at only 2 days. I think\n",
                "we would have to do a little more processing to see how many days\n",
                "GPP truly follows T by!\n",
                "\n",
                "\n",
                "# Differencing a timeseries and Autocorrelation\n",
                "\n",
                "Differencing a time-series is a technique that removes history i.e.\n",
                "attempts to make a time-series stationary. It is a simple idea, we\n",
                "just take the difference between adjacent values. We use the *diff*\n",
                "function in R to do this. Try it out below:\n"
            ]
        },
        {
            "cell_type": "code",
            "execution_count": null,
            "metadata": {},
            "outputs": [],
            "source": [
                "gpp.diff <- diff(gpp.midday$HYY_EDDY233.GPP)\n",
                "\n"
            ]
        },
        {
            "cell_type": "markdown",
            "metadata": {},
            "source": [
                "Note that the length of gpp.diff is one less than the the length\n",
                "of the original GPP time-series. Let's add a NA so we can fit\n",
                "it into the original dataframe, and plot the output:\n"
            ]
        },
        {
            "cell_type": "code",
            "execution_count": null,
            "metadata": {},
            "outputs": [],
            "source": [
                "gpp.midday$gpp.diff <- c(gpp.diff, NA)\n",
                "\n",
                "ggplot(gpp.midday,aes(x=date,y=gpp.diff))+\n",
                "  geom_point() +  ylab(\"GPP difference\") +\n",
                "  scale_x_date(breaks = date_breaks('30 day'),\n",
                "               labels = date_format(\"%b-%d\")) \n"
            ]
        },
        {
            "cell_type": "markdown",
            "metadata": {},
            "source": [
                "let's see what the acf \n",
                "plot looks like (note that we have to use the gpp.diff variable here\n",
                "not the dataframe, as acf fails for vectors with NA):\n"
            ]
        },
        {
            "cell_type": "code",
            "execution_count": null,
            "metadata": {},
            "outputs": [],
            "source": [
                "acf(gpp.diff,lag.max=100)\n",
                "\n"
            ]
        },
        {
            "cell_type": "markdown",
            "metadata": {},
            "source": [
                "The rapid fall-off in the acf means that our data no longer remembers\n",
                "so much of its history. \n",
                "\n",
                "So is the difference time-series stationary? well the mean stays constant, \n",
                "but the variabilty (variance) is still a funcion of time. So we cannot\n",
                "say that our time-series is stationary in variance. \n"
            ]
        }
    ],
    "metadata": {
        "anaconda-cloud": "",
        "kernelspec": {
            "display_name": "R",
            "langauge": "R",
            "name": "ir"
        },
        "language_info": {
            "codemirror_mode": "r",
            "file_extension": ".r",
            "mimetype": "text/x-r-source",
            "name": "R",
            "pygments_lexer": "r",
            "version": "3.4.1"
        }
    },
    "nbformat": 4,
    "nbformat_minor": 1
}
