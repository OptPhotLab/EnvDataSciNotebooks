{
    "cells": [
        {
            "cell_type": "markdown",
            "metadata": {},
            "source": [
                "## what is model selection\n",
                "\n",
                "It is choosing the simplest model that adequately explain the data\n",
                "\n",
                "\n",
                "Here we are not going to be able to go through all the theory behind it and cover everything into details. However, I will provide you with a reliable method to do it. If you are interested to go further, we can discuss.\n",
                "\n",
                "# to do before we get started\n"
            ]
        },
        {
            "cell_type": "code",
            "execution_count": null,
            "metadata": {},
            "outputs": [],
            "source": [
                "NSCdata0<-read.csv(\"../data/NSCdata2.csv\",header=T,se=\",\")\n",
                "str(NSCdata0)\n",
                "NSCdata<-subset(NSCdata0,!NSCdata0$Health==\"?\")\n",
                "str(NSCdata)\n",
                "\n",
                "library(nlme)\n",
                "library(MASS)\n"
            ]
        },
        {
            "cell_type": "markdown",
            "metadata": {},
            "source": [
                "This is a subset of a real dataset published some time ago (Salmon et al. 2015 PCE).\n",
                "This present non-structural carbohydrates (Total, Starch, Sucrose, Glucose and Fructose, and total soluble sugars) in Pinus sylvestris trees in a spanish population.\n",
                "The data are group into:\n",
                "- Season\n",
                "- sampled tissue: needles (L) or twing (R)\n",
                "- Health status: Defoliated (D) means dying, Non-defoliated (ND) means healthy\n",
                "Measurments were done on the same trees repeatedly\n",
                "\n",
                "## fixed effect model (ANOVA, Linear model)\n",
                "\n",
                "I assume most of you are familiar with those types of model. Thus this is mostly to refresh memories and get you thinking about the model selection.\n",
                "If that's not the case, let me know\n",
                "\n",
                "#ANOVA\n",
                "\n",
                "Now for the sake of testing, image all measurements are independent.\n",
                "We can look at the effect of Season, Part and Health on total NSC with a classical ANOVA\n",
                "\n",
                "Do you have an idea how to code it? Or at least structure it?\n",
                "Give it a try\n"
            ]
        },
        {
            "cell_type": "code",
            "execution_count": null,
            "metadata": {},
            "outputs": [],
            "source": [
                "\n",
                "\n"
            ]
        },
        {
            "cell_type": "markdown",
            "metadata": {},
            "source": [
                "\n",
                "Note that there are different ways to code for an ANOVA in R,\n"
            ]
        },
        {
            "cell_type": "code",
            "execution_count": null,
            "metadata": {},
            "outputs": [],
            "source": [
                "anova1<-aov(Total_NSC~Season*Part*Health,data=NSCdata)\n",
                "summary(anova1)\n"
            ]
        },
        {
            "cell_type": "markdown",
            "metadata": {},
            "source": [
                "How to check if the model is ok?\n",
                "\n"
            ]
        },
        {
            "cell_type": "code",
            "execution_count": null,
            "metadata": {},
            "outputs": [],
            "source": [
                "par(mfrow=c(2,2));plot(anova1)\n",
                "\n"
            ]
        },
        {
            "cell_type": "markdown",
            "metadata": {},
            "source": "Let's look at the residual\n"
        },
        {
            "cell_type": "code",
            "execution_count": null,
            "metadata": {},
            "outputs": [],
            "source": [
                "residuals <- residuals(anova1)\n",
                "par(mfrow=c(1,2))\n",
                "hist(NSCdata$Total_NSC,breaks=8)   # Breaks only suggestion\n",
                "hist(residuals,breaks=8)\n"
            ]
        },
        {
            "cell_type": "markdown",
            "metadata": {},
            "source": [
                "Now, can we simplify the model?\n",
                "How would you do it?\n"
            ]
        },
        {
            "cell_type": "code",
            "execution_count": null,
            "metadata": {},
            "outputs": [],
            "source": [
                "\n",
                "\n"
            ]
        },
        {
            "cell_type": "markdown",
            "metadata": {},
            "source": [
                "#linear regression\n",
                "\n",
                "Now, let's try to see if there is a relation betweem continous variable.\n",
                "For example, does the amount of starch and soluble sugars are related?\n"
            ]
        },
        {
            "cell_type": "code",
            "execution_count": null,
            "metadata": {},
            "outputs": [],
            "source": [
                "lm1<-lm(Starch~Soluble_Sugars,data=NSCdata)\n",
                "summary(lm1)\n"
            ]
        },
        {
            "cell_type": "markdown",
            "metadata": {},
            "source": "now if you account for other factors\n"
        },
        {
            "cell_type": "code",
            "execution_count": null,
            "metadata": {},
            "outputs": [],
            "source": [
                "lm2<-lm(Starch~Soluble_Sugars*Season*Part*Health,data=NSCdata)\n",
                "summary(lm2)\n"
            ]
        },
        {
            "cell_type": "markdown",
            "metadata": {},
            "source": [
                "Do you know what are the Multiple R-square and Adjusted R-square\n",
                "\n",
                "Multiple R squared simply measure of Rsquared for the model: i.e.,  the amount of variation in the response variable that can be explained by the independent variables. It alwasy increase with the increasing number of variables used in the model.T\n",
                "\n",
                "Adjusted Rsquared controls against this increase, and adds penalties for the number of predictors in the model. Therefore it shows a balance between the most parsimonious model, and the best fitting model. \n",
                "\n",
                "Big difference can be an sign of overfitting.\n",
                "\n",
                "Think when you want to consider each one of them\n",
                "\n",
                "What would you do to simplify the above complex model? How would you text it?\n"
            ]
        },
        {
            "cell_type": "code",
            "execution_count": null,
            "metadata": {},
            "outputs": [],
            "source": [
                "\n",
                "\n"
            ]
        },
        {
            "cell_type": "markdown",
            "metadata": {},
            "source": [
                "## mixed effect models or additive mixed effect model\n",
                "\n",
                "Now we know that those measurments were actually repeatidly made on the same trees, so we should account for that in the models.\n",
                "\n",
                "Note that there are different ways to do mixed-effect model in R. We will go with the package \"nlme\"\n",
                "\n",
                "\n",
                "This is mostly based on Zuur et al. 2009 - mixed effects models and extension in ecology with R\n",
                "That's a great stat book and they details things a lot more, but this should be enough to get you going.\n",
                "\n",
                "Model selection is based on:\n",
                "1)Akaike Information Criteria (AIC), or the Bayesian Information Criteria (BIC).\n",
                "Both measure the fit of the models and give a penality for its complexity. The simpler the model (that explain the data as well) the better\n",
                "\n",
                "2)\n",
                "\n",
                "Two types of approaches: top-down (starting from the full model and trying to simplify it) and step-up (the opposite). Top-down is usually recommended.\n",
                " \n",
                "\n",
                "1. Start with a model where the fixed component contains all explanatory variables and as many interactions as possible (the beyond optimal model). \n",
                "\n",
                "gls only deals with heterogenity of the variance\n",
                "lme deals with real random terms (for example here it account for the nesting/repeating of the measurements on trees)\n",
                "The random term (here the tree) can influence only the intercept of the regression (model2) or the slope as well (model3, 4, 5 and 6)\n"
            ]
        },
        {
            "cell_type": "code",
            "execution_count": null,
            "metadata": {},
            "outputs": [],
            "source": [
                "NSCdata1<-na.omit(NSCdata)\n",
                "\n",
                "mix1<-gls(Total_NSC~Season*Part*Health,data=NSCdata1,method=\"REML\")\n",
                "mix2<-lme(Total_NSC~Season*Part*Health,random=~1|Tree,data=NSCdata1,method=\"REML\")\n",
                "#mix3<-lme(Total_NSC~Season*Part*Health,random=~1+Season|Tree,data=NSCdata1 ,method=\"REML\") #there is a problem with that model (you can remove the # to see it). Because, it doesn't matter here for the model selection process with will just ignore it for now\n",
                "mix4<-lme(Total_NSC~Season*Part*Health,random=~1+Health|Tree,data=NSCdata1 ,method=\"REML\")\n",
                "mix5<-lme(Total_NSC~Season*Part*Health,random=~1+Part|Tree,data=NSCdata1 ,method=\"REML\")\n",
                "mix6<-lme(Total_NSC~Season*Part*Health,random=~1+Part+Health|Tree,data=NSCdata1 ,method=\"REML\")\n"
            ]
        },
        {
            "cell_type": "markdown",
            "metadata": {},
            "source": [
                "2. Using the beyond optimal model, find the optimal structure of the random component. \n",
                "\n",
                "This can be done by looking at the model with the lowest AIC\n"
            ]
        },
        {
            "cell_type": "code",
            "execution_count": null,
            "metadata": {},
            "outputs": [],
            "source": [
                "AIC(mix1,mix2,mix4,mix5,mix6)\n",
                "#BIC(mix1,mix2,mix4,mix5,mix6)\n"
            ]
        },
        {
            "cell_type": "markdown",
            "metadata": {},
            "source": [
                "\n",
                "Here model 2, the mixed effect model where the random term only impact the intercept, is best.\n"
            ]
        },
        {
            "cell_type": "code",
            "execution_count": null,
            "metadata": {},
            "outputs": [],
            "source": [
                "summary(mix2)\n",
                "anova(mix2)\n"
            ]
        },
        {
            "cell_type": "markdown",
            "metadata": {},
            "source": [
                "Do you know the difference between these two output?\n",
                "\n",
                "3. find the optimal fixed structure. \n"
            ]
        },
        {
            "cell_type": "code",
            "execution_count": null,
            "metadata": {},
            "outputs": [],
            "source": [
                "sel1<-lme(Total_NSC~Season*Part*Health,random=~1|Tree,data=NSCdata1,method=\"ML\") #note this is the same as mix2 but with ML\n",
                "sel2<-lme(Total_NSC~(Season+Part+Health)^2,random=~1|Tree,data=NSCdata1,method=\"ML\")\n",
                "AIC(sel1,sel2)\n"
            ]
        },
        {
            "cell_type": "markdown",
            "metadata": {},
            "source": [
                "That's a bit of a tricky case. The three way interaction is not significant (see above) and the AIC is almost equal if very slightly higher than the complex model. Ultimately we would prefer a simpler model.\n",
                "There are a few things that can be considered when deciding how to proceed. One is to look at the residual and model validation (see below 4), another is to see what the BIC tells us\n"
            ]
        },
        {
            "cell_type": "code",
            "execution_count": null,
            "metadata": {},
            "outputs": [],
            "source": [
                "BIC(sel1,sel2)\n",
                "\n"
            ]
        },
        {
            "cell_type": "markdown",
            "metadata": {},
            "source": "Maybe we can go further, but let's check that our simpler model is not significantly worse than the full model\n"
        },
        {
            "cell_type": "code",
            "execution_count": null,
            "metadata": {},
            "outputs": [],
            "source": [
                "anova(sel1,sel2)\n",
                "\n"
            ]
        },
        {
            "cell_type": "markdown",
            "metadata": {},
            "source": [
                "That's ok.\n",
                "\n",
                "Thus, let's decide to see if we can simply the model even further. Can one of the two-way interaction be removed?\n"
            ]
        },
        {
            "cell_type": "code",
            "execution_count": null,
            "metadata": {},
            "outputs": [],
            "source": [
                "sel3a<-lme(Total_NSC~Season+Part+Health+Season:Part+Season:Health,random=~1|Tree,data=NSCdata1,method=\"ML\")\n",
                "sel3b<-lme(Total_NSC~Season+Part+Health+Season:Part+Part:Health,random=~1|Tree,data=NSCdata1,method=\"ML\")\n",
                "sel3c<-lme(Total_NSC~Season+Part+Health+Health:Part+Season:Health,random=~1|Tree,data=NSCdata1,method=\"ML\")\n",
                "AIC(sel2,sel3a,sel3b,sel3c)\n"
            ]
        },
        {
            "cell_type": "markdown",
            "metadata": {},
            "source": [
                "It seems Part:health is not very important (that can also be seem from the anova(mix2) above)\n",
                "\n",
                "you can check that to:\n"
            ]
        },
        {
            "cell_type": "code",
            "execution_count": null,
            "metadata": {},
            "outputs": [],
            "source": [
                "#anova(sel1,sel3a)\n",
                "\n"
            ]
        },
        {
            "cell_type": "markdown",
            "metadata": {},
            "source": [
                "\n",
                "Can we go further?\n"
            ]
        },
        {
            "cell_type": "code",
            "execution_count": null,
            "metadata": {},
            "outputs": [],
            "source": [
                "sel4a<-lme(Total_NSC~Season+Part+Health+Season:Part,random=~1|Tree,data=NSCdata1,method=\"ML\")\n",
                "sel4b<-lme(Total_NSC~Season+Part+Health+Season:Health,random=~1|Tree,data=NSCdata1,method=\"ML\")\n",
                "AIC(sel3a,sel4a,sel4b)\n"
            ]
        },
        {
            "cell_type": "markdown",
            "metadata": {},
            "source": [
                "\n",
                "\n"
            ]
        },
        {
            "cell_type": "code",
            "execution_count": null,
            "metadata": {},
            "outputs": [],
            "source": [
                "#anova(sel1,sel4a)\n",
                "\n"
            ]
        },
        {
            "cell_type": "markdown",
            "metadata": {},
            "source": [
                "(we could do a test to remove the Season:Part interaction but if you look at the AIC of model 3c, 4c and the output of the anova(mix2) it is clear that it matters)\n",
                "\n",
                "Now we have the following model: Total_NSC~Season+Part+Health+Season:Part\n",
                "Does the Heatlh actually matter?\n"
            ]
        },
        {
            "cell_type": "code",
            "execution_count": null,
            "metadata": {},
            "outputs": [],
            "source": [
                "sel5<-lme(Total_NSC~Season+Part+Season:Part,random=~1|Tree,data=NSCdata1,method=\"ML\")\n",
                "AIC(sel4a,sel5)\n"
            ]
        },
        {
            "cell_type": "markdown",
            "metadata": {},
            "source": [
                "this suggest that the health status doesn't matter\n",
                "\n"
            ]
        },
        {
            "cell_type": "code",
            "execution_count": null,
            "metadata": {},
            "outputs": [],
            "source": [
                "anova(sel1,sel5)\n",
                "\n"
            ]
        },
        {
            "cell_type": "markdown",
            "metadata": {},
            "source": [
                "So this suggest that we are not doing a worth job at explaining the data with the model:\n",
                "Total_NSC~Season+Part+Season:Part\n",
                "than with the model:\n",
                "Total_NSC~Season+Part+Health+Season:Part+Season:Health+Part:Health+Season:Part:Health\n",
                "\n",
                "4. Present the final model using REML estimation and test it's validity\n"
            ]
        },
        {
            "cell_type": "code",
            "execution_count": null,
            "metadata": {},
            "outputs": [],
            "source": [
                "Final1<-lme(Total_NSC~Season+Part+Season:Part,random=~1|Tree,data=NSCdata1,method=\"REML\")\n",
                "summary(Final1)\n",
                "anova(Final1)\n"
            ]
        },
        {
            "cell_type": "markdown",
            "metadata": {},
            "source": [
                "Here we presented cases with mixed effect model but the same can be used with additive models\n",
                "\n",
                "\n",
                "Now you can try the same process of model selection with other NSC variables\n"
            ]
        },
        {
            "cell_type": "code",
            "execution_count": null,
            "metadata": {},
            "outputs": [],
            "source": [
                "E<-resid(Final1,type=\"normalized\")\n",
                "fit<-fitted(Final1)\n",
                "op<-par(mfrow=c(1,2))\n",
                "plot(x=fit, y=E,\n",
                "     xlab=\"Fitted values\", ylab=\"Residuals\",\n",
                "     main=\"Residual versus fitted values\")\n",
                "#identify(fit,E)\n",
                "hist(E,nclass=30)\n",
                "par(op)\n"
            ]
        },
        {
            "cell_type": "markdown",
            "metadata": {},
            "source": [
                "Really not too bad (one outlier), even if there is a bit of an increase in the residual vs fitted values. \n",
                "It might be that some information are missing in the dataset/model. For example, there might be a temperature effect that is not included here.\n",
                "That could be handled with data transformation, glm, etc. but that will be for another course.\n",
                "\n",
                "\n",
                "\n",
                "## special cases\n",
                "\n",
                "# interaction with more than two variables\n",
                "\n",
                "There is no clear rule how to handle that. On one hand from a statisitcal method point-of-view you should start with the most complex model and if there is a three-way interaction, you should keep it. On the other hand, I haven't met anyone so far that is able to interpret the meaning of a three (or higher) way interaction. Thus, there might be a very important term, but we cannot make sense of it.\n",
                "\n",
                "# small sample size\n",
                "\n",
                "AICc is the AIC corrected for small sample size since there is a risk that AIC will select too complicated model in that case (overfit)\n",
                "Whn to use it? not set in stone but some author recommnend AICc when N/K<40 with N the number of sample and K the number of variables fitted in the model\n"
            ]
        },
        {
            "cell_type": "code",
            "execution_count": null,
            "metadata": {},
            "outputs": [],
            "source": [
                "library(MuMIn)\n",
                "AIC(sel4a,sel5)\n",
                "AICc(sel4a,sel5)\n"
            ]
        },
        {
            "cell_type": "markdown",
            "metadata": {},
            "source": [
                "# what to do if the variables are not orthogonals\n",
                "\n",
                "Two variables are othogonal if there is no correlation between them.\n",
                "That's a complicated, albeit common issue. For example, PAR and VPD or tempearture are often correlated.\n",
                "The order n which they come n the model then matters.\n",
                "\n",
                "We will keep it as food for thought at this point, but we could come back to it anther time.\n"
            ]
        }
    ],
    "metadata": {
        "anaconda-cloud": "",
        "kernelspec": {
            "display_name": "R",
            "langauge": "R",
            "name": "ir"
        },
        "language_info": {
            "codemirror_mode": "r",
            "file_extension": ".r",
            "mimetype": "text/x-r-source",
            "name": "R",
            "pygments_lexer": "r",
            "version": "3.4.1"
        }
    },
    "nbformat": 4,
    "nbformat_minor": 1
}
