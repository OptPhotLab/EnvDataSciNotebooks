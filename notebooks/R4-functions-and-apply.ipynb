{
    "cells": [
        {
            "cell_type": "markdown",
            "metadata": {},
            "source": "\n"
        },
        {
            "cell_type": "code",
            "execution_count": null,
            "metadata": {},
            "outputs": [],
            "source": [
                "knitr::opts_chunk$set(echo = TRUE)\n",
                "\n"
            ]
        },
        {
            "cell_type": "markdown",
            "metadata": {},
            "source": [
                "# A deeper look at functions\n",
                "\n",
                "In this session we take a deeper look at functions and the apply \n",
                "family of functions.\n",
                "\n",
                "R makes extensive use of the *functional* programming paradigm\n",
                "(style); what this means in practice is that getting things done in R\n",
                "involves using functions. You can check out the reminder below (section 1) or\n",
                "in the first notebook (R1) for a definition of a function. \n",
                "\n",
                "We will also take another look at the **apply** family of functions. These functions\n",
                "are used to achieve iteration in R and are basically an alternative way of looping\n",
                "over stuff. \n",
                "\n",
                "Finally, it is worth working seeking out at a definition of different\n",
                "programming paradigms (functional, imperative, object orientated) to\n",
                "see where R sits in the universe of computer languages.\n",
                "\n",
                "\n",
                "# 1. What is a function?\n",
                "A function is a set of instructions (lines of codes) that you need to repeat or that\n",
                "you want to have self-contained to limit the complexity of your program\n",
                "\n",
                "in R, function are build along the following principal:\n",
                "\n",
                "function.name <- function(arguments) {\n",
                "body of function i.e. set of operations/instructions involving the arguments\n",
                "}\n",
                "\n",
                "arguments are the elements that you import from the general program and on which you want to apply the function\n",
                "variables defined inside the function exists only within the function environment.\n",
                "\n",
                "example 1\n"
            ]
        },
        {
            "cell_type": "code",
            "execution_count": null,
            "metadata": {},
            "outputs": [],
            "source": [
                "f1<-function (x,y) {\n",
                "  x+y\n",
                "}\n",
                "f1(10,5)\n",
                "f1(2,4)\n"
            ]
        },
        {
            "cell_type": "markdown",
            "metadata": {},
            "source": [
                "simple, isn't it?\n",
                "\n",
                "remember, our first function was very simple. But what happen when you have a more complex functions producing several output\n"
            ]
        },
        {
            "cell_type": "code",
            "execution_count": null,
            "metadata": {},
            "outputs": [],
            "source": [
                "\n",
                "\n"
            ]
        },
        {
            "cell_type": "markdown",
            "metadata": {},
            "source": "\n"
        },
        {
            "cell_type": "code",
            "execution_count": null,
            "metadata": {},
            "outputs": [],
            "source": [
                "f2<- function(x,y) {\n",
                "  z1<-x+y\n",
                "  z2<-x-y\n",
                "  z3<-x*y\n",
                "}\n",
                "\n",
                "f2(10,5)\n"
            ]
        },
        {
            "cell_type": "markdown",
            "metadata": {},
            "source": [
                "what to do to tackle this issue?\n",
                "You can include a return statement, with the list of output you wan to have\n"
            ]
        },
        {
            "cell_type": "code",
            "execution_count": null,
            "metadata": {},
            "outputs": [],
            "source": [
                "f3<- function(x,y) {\n",
                "  z1<-x+y\n",
                "  z2<-x-y\n",
                "  z3<-x*y\n",
                "  return(c(z1,z2,z3))\n",
                "}\n",
                "\n",
                "f3(10,5)\n"
            ]
        },
        {
            "cell_type": "markdown",
            "metadata": {},
            "source": "you can now call those results, \n"
        },
        {
            "cell_type": "code",
            "execution_count": null,
            "metadata": {},
            "outputs": [],
            "source": [
                "f3(10,5)[[1]]\n",
                "f3(10,5)[[3]]\n",
                "f3(10,5)[[2]]\n"
            ]
        },
        {
            "cell_type": "markdown",
            "metadata": {},
            "source": [
                "but remember the variables inside the function (here z1, z2, and z3) only exist within the function\n",
                "\n"
            ]
        },
        {
            "cell_type": "code",
            "execution_count": null,
            "metadata": {},
            "outputs": [],
            "source": [
                "f3(10,5)$z1\n",
                "\n"
            ]
        },
        {
            "cell_type": "markdown",
            "metadata": {},
            "source": [
                "\n",
                "it can be convenient to name the output\n"
            ]
        },
        {
            "cell_type": "code",
            "execution_count": null,
            "metadata": {},
            "outputs": [],
            "source": [
                "f4<- function(x,y) {\n",
                "  z1<-x+y\n",
                "  z2<-x-y\n",
                "  z3<-x*y\n",
                "  list(result1=z1,result2=z2,result3=z3)\n",
                "}\n",
                "\n",
                "f4(10,5)\n"
            ]
        },
        {
            "cell_type": "markdown",
            "metadata": {},
            "source": "now you can use those output name\n"
        },
        {
            "cell_type": "code",
            "execution_count": null,
            "metadata": {},
            "outputs": [],
            "source": [
                "f4(10,5)$result1\n",
                "\n"
            ]
        },
        {
            "cell_type": "markdown",
            "metadata": {},
            "source": [
                "it  is also often convenient to store the output of the function into a object. For example, if there are going to be used for further operations\n",
                "\n"
            ]
        },
        {
            "cell_type": "code",
            "execution_count": null,
            "metadata": {},
            "outputs": [],
            "source": [
                "obj1<-f4(10,5)\n",
                "\n"
            ]
        },
        {
            "cell_type": "markdown",
            "metadata": {},
            "source": [
                "\n",
                "what is the nature of obj1 and can you now extract the results from it?\n"
            ]
        },
        {
            "cell_type": "code",
            "execution_count": null,
            "metadata": {},
            "outputs": [],
            "source": [
                "\n",
                "\n"
            ]
        },
        {
            "cell_type": "markdown",
            "metadata": {},
            "source": [
                "\n",
                "it is also possible to set default values for the arguments\n"
            ]
        },
        {
            "cell_type": "code",
            "execution_count": null,
            "metadata": {},
            "outputs": [],
            "source": [
                "f5<- function(x=20,y=1) {\n",
                "  z1<-x+y\n",
                "  z2<-x-y\n",
                "  list(result1=z1,result2=z2)\n",
                "}\n",
                "f5()\n",
                "f5(10,)$result1\n"
            ]
        },
        {
            "cell_type": "markdown",
            "metadata": {},
            "source": [
                "finally, the arguments can be vectors or matrices.\n",
                "\n"
            ]
        },
        {
            "cell_type": "code",
            "execution_count": null,
            "metadata": {},
            "outputs": [],
            "source": [
                "# vectors \n",
                "\n",
                "v1<-seq(1:5)\n",
                "v2<-c(2,4,6,8,10)\n",
                "v3<-seq(1:4)\n",
                "\n",
                "#matrix\n",
                "\n",
                "m1<-matrix( c(1, 2, 3, 4, 5, 6), ncol=2)\n",
                "m2<-matrix( c(2, 4, 6, 8, 10, 12), ncol=2)\n",
                "m3<-matrix( c(1, 2, 3, 4, 5, 6, 7, 8), ncol=2)\n"
            ]
        },
        {
            "cell_type": "markdown",
            "metadata": {},
            "source": [
                "now create a function that: (1) subtract x from y, and (2) square the result\n",
                "apply it to v1 and v2 as well as m1 and m2\n",
                "export those results to an new object and print\n",
                "see what happens when you use v3 or m3 instead of v1 and m1\n"
            ]
        },
        {
            "cell_type": "code",
            "execution_count": null,
            "metadata": {},
            "outputs": [],
            "source": [
                "\n",
                "\n"
            ]
        },
        {
            "cell_type": "markdown",
            "metadata": {},
            "source": [
                "Be careful that if the different arguments are all vectors and \n",
                "matrices they should be of the same length\n",
                " \n",
                " \n",
                "functions can be used in loops, but R has a better way. This\n",
                "is the *apply* family.  In comparison to a for loop, apply is\n",
                "typically easier to read and results in less side effects (unintended\n",
                "consequences). The efficiency (speed) of apply Vs a for loop will \n",
                "depend on the particular task at hand, you can read more about\n",
                "that here:\n",
                "\n",
                "https://stackoverflow.com/questions/42393658/lapply-vs-for-loop-performance-r\n",
                "\n",
                "# 2.  apply-ing functions\n",
                " \n",
                "There is a all family of function based on apply(), the idea is the\n",
                "same though: manipulate slices of matrix, array, list, dataframe in a\n",
                "repetitive way (*iterate*) and thus avoid the use of loops\n",
                " \n",
                "apply operates on array or matrix (array of dimension 2) X\n",
                " \n",
                "apply is written as apply(X,MARGIN,FUN)\n",
                " \n",
                "where margin specify how the function is applied, 1 is on row and 2 is on column\n",
                " \n",
                "FUN is the function to apply\n",
                " \n"
            ]
        },
        {
            "cell_type": "code",
            "execution_count": null,
            "metadata": {},
            "outputs": [],
            "source": [
                "X <- matrix(rnorm(30), nrow=5, ncol=6)\n",
                "print(X)\n",
                "\n",
                "apply(X,2,sum)\n"
            ]
        },
        {
            "cell_type": "markdown",
            "metadata": {},
            "source": [
                " we have summed the values of each column\n",
                " do the same with the lines\n",
                " \n"
            ]
        },
        {
            "cell_type": "code",
            "execution_count": null,
            "metadata": {},
            "outputs": [],
            "source": [
                "\n",
                "\n"
            ]
        },
        {
            "cell_type": "markdown",
            "metadata": {},
            "source": [
                "when you want to use a similar approach but with dataframes, lists or\n",
                "vectors, there is the lapply() function or sapply function\n",
                "\n",
                "lapply returns a list\n",
                "sapply retruns a vector\n"
            ]
        },
        {
            "cell_type": "code",
            "execution_count": null,
            "metadata": {},
            "outputs": [],
            "source": [
                "#cars: The data give the speed of cars and the distances taken to stop. Note that the data were recorded in the 1920s.\n",
                "# [,1]\t speed\t numeric\t Speed (mph)\n",
                "# [,2]\t dist\t numeric\t Stopping distance (ft)\n",
                "\n",
                "#we calculate the average speed and breaking distance\n",
                "CarDat<-cars\n",
                "speed_av_l<-lapply(CarDat,mean)\n",
                "speed_av_v<-sapply(CarDat,mean)\n",
                "\n",
                "speed_av_l\n"
            ]
        },
        {
            "cell_type": "markdown",
            "metadata": {},
            "source": [
                "\n",
                "\n"
            ]
        },
        {
            "cell_type": "code",
            "execution_count": null,
            "metadata": {},
            "outputs": [],
            "source": [
                "speed_av_v\n",
                "\n"
            ]
        },
        {
            "cell_type": "markdown",
            "metadata": {},
            "source": [
                "\n",
                "now, find out the min and max of these values\n"
            ]
        },
        {
            "cell_type": "code",
            "execution_count": null,
            "metadata": {},
            "outputs": [],
            "source": [
                "\n",
                "\n"
            ]
        },
        {
            "cell_type": "markdown",
            "metadata": {},
            "source": [
                "tapply computes a measure (e.g., mean or max) of a object X (usually a vector) as a function of a factor contained in another variables.\n",
                "\n",
                "we will use the iris data (in R), This famous (Fisher's or Anderson's) iris data set gives the measurements in centimetres of the variables sepal length and width and petal length and width, respectively, for 50 flowers from each of 3 species of iris. The species are Iris setosa, versicolor, and virginica.\n"
            ]
        },
        {
            "cell_type": "code",
            "execution_count": null,
            "metadata": {},
            "outputs": [],
            "source": [
                "str(iris)\n",
                "\n"
            ]
        },
        {
            "cell_type": "markdown",
            "metadata": {},
            "source": "now we want to calculate the mean petal length per species\n"
        },
        {
            "cell_type": "code",
            "execution_count": null,
            "metadata": {},
            "outputs": [],
            "source": [
                "flowerDat<-iris\n",
                "Petal_l_av<- tapply(flowerDat$Petal.Length, flowerDat$Species, mean)\n",
                "Petal_l_av\n"
            ]
        },
        {
            "cell_type": "markdown",
            "metadata": {},
            "source": "to the same for the other variables\n"
        },
        {
            "cell_type": "code",
            "execution_count": null,
            "metadata": {},
            "outputs": [],
            "source": [
                "\n",
                "\n"
            ]
        },
        {
            "cell_type": "markdown",
            "metadata": {},
            "source": [
                "Now wouldn't it be convenient to do be able to do it for multiple variables at \n",
                "the same time?\n",
                "\n",
                "## mapply\n",
                "That's were the mapply (m for multi) becomes handy\n"
            ]
        },
        {
            "cell_type": "code",
            "execution_count": null,
            "metadata": {},
            "outputs": [],
            "source": [
                "res<-mapply(mean,flowerDat[,c(1:4)])\n",
                "res\n"
            ]
        },
        {
            "cell_type": "markdown",
            "metadata": {},
            "source": "but is it exactly what we want? no quite\n"
        },
        {
            "cell_type": "code",
            "execution_count": null,
            "metadata": {},
            "outputs": [],
            "source": [
                "res2<-mapply(function(x) tapply(x, flowerDat$Species, mean),flowerDat[,c(1:4)])\n",
                "res2\n"
            ]
        },
        {
            "cell_type": "markdown",
            "metadata": {},
            "source": [
                "## aggregate\n",
                "Now, there is another way to do that which I tend to prefer in such situation\n",
                "it relies on the aggregate function, which operate similarly as apply, but has the additional possibly to use \"by\" to specify on which sets of variable the function is apply independently\n"
            ]
        },
        {
            "cell_type": "code",
            "execution_count": null,
            "metadata": {},
            "outputs": [],
            "source": [
                "res3<-aggregate(flowerDat[,c(1:4)],by=list(flowerDat$Species),mean)\n",
                "res3\n"
            ]
        },
        {
            "cell_type": "markdown",
            "metadata": {},
            "source": [
                "# 3. What are R packages?\n",
                "\n",
                "Before we finish, let's take a little detour\n",
                "into the world of packages.  R packages are basically sets of\n",
                "functions, developed by the R user community to tackle a\n",
                "problem/coding need.\n",
                "\n",
                "There are probably more than 10000 packages for R, usually available\n",
                "online. You can develop your own and share it.\n",
                "\n",
                "A package usually includes some documentations, a set of functions\n",
                "(and possibly some data), a some test to see it works fine basic\n",
                "information are given the description file (available online, e.g.,\n",
                "cran.r-project.org or stat.ethz.ch)\n"
            ]
        },
        {
            "cell_type": "code",
            "execution_count": null,
            "metadata": {},
            "outputs": [],
            "source": [
                "packageDescription(\"datasets\")\n",
                "#help(package=\"datasets\"), might not work here\n"
            ]
        },
        {
            "cell_type": "markdown",
            "metadata": {},
            "source": [
                "packages are usually on repositories from where they can be installed (CRAN, GitHub,...)\n",
                "\n",
                "to install a package from R: \n",
                " \"might not work form notebook\"\n",
                " \"install.packages(\"ggplot2\")\"\n",
                "\n",
                " to install from CRAN\n",
                " \"install.packages(\"ggplot2\", repo=\"https://ftp.acc.umu.se/mirror/CRAN/\")\"\n",
                "\n",
                "packages can be removed with remove.packages(always specify which package)\n",
                "packages can be updated with update.packages(), if not specify all packages will be updated\n",
                "\n",
                "In the notebooks we install packages ahead of time. To use the packages, you can\n",
                " either load it in the memory\n"
            ]
        },
        {
            "cell_type": "code",
            "execution_count": null,
            "metadata": {},
            "outputs": [],
            "source": [
                "library(ggplot2)\n",
                "\n"
            ]
        },
        {
            "cell_type": "markdown",
            "metadata": {},
            "source": [
                "or you can just use one function with the following syntax *package::function*\n",
                "\n",
                "In Rstudio, you can install and load packages from the packages tab in \n",
                "the lower right corner.\n",
                "\n",
                "note: do not mix library (a command to load packages) with the packages\n",
                "\n",
                "\n",
                "# 4. An additional exercise to test your understanding.\n",
                "\n",
                "Here we will try to use what we have learnt to datadownloaded from SMARTSMEAR.\n",
                "\n",
                "Read (either) data file from\n",
                "https://github.com/OptPhotLab/EnvDataSciNotebooks/tree/master/data\n"
            ]
        },
        {
            "cell_type": "code",
            "execution_count": null,
            "metadata": {},
            "outputs": [],
            "source": [
                "# hint, take a look in notebook R3-databasics \n",
                "\n"
            ]
        },
        {
            "cell_type": "markdown",
            "metadata": {},
            "source": [
                "\n",
                "read the other file, and combine the two files together into a single dataframe:\n"
            ]
        },
        {
            "cell_type": "code",
            "execution_count": null,
            "metadata": {},
            "outputs": [],
            "source": [
                "\n",
                "\n"
            ]
        },
        {
            "cell_type": "markdown",
            "metadata": {},
            "source": [
                "create a function to calculate a single column mean. Do not use 'mean' built in, \n",
                "but write the formula yourself:\n"
            ]
        },
        {
            "cell_type": "code",
            "execution_count": null,
            "metadata": {},
            "outputs": [],
            "source": [
                "# hint, the input argument should be a vector of values\n",
                "\n"
            ]
        },
        {
            "cell_type": "markdown",
            "metadata": {},
            "source": [
                "apply this function to both columns:\n",
                "\n"
            ]
        },
        {
            "cell_type": "code",
            "execution_count": null,
            "metadata": {},
            "outputs": [],
            "source": [
                "\n",
                "\n"
            ]
        },
        {
            "cell_type": "markdown",
            "metadata": {},
            "source": [
                "plot both daily means using ggplot\n",
                "\n"
            ]
        },
        {
            "cell_type": "code",
            "execution_count": null,
            "metadata": {},
            "outputs": [],
            "source": [
                "\n",
                "\n"
            ]
        },
        {
            "cell_type": "markdown",
            "metadata": {},
            "source": [
                " \n",
                " \n",
                " \n",
                " \n",
                " \n",
                " \n",
                " \n",
                " \n"
            ]
        }
    ],
    "metadata": {
        "anaconda-cloud": "",
        "kernelspec": {
            "display_name": "R",
            "langauge": "R",
            "name": "ir"
        },
        "language_info": {
            "codemirror_mode": "r",
            "file_extension": ".r",
            "mimetype": "text/x-r-source",
            "name": "R",
            "pygments_lexer": "r",
            "version": "3.4.1"
        }
    },
    "nbformat": 4,
    "nbformat_minor": 1
}
