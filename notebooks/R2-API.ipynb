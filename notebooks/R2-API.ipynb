{
 "cells": [
  {
   "cell_type": "code",
   "execution_count": null,
   "metadata": {
    "scrolled": true
   },
   "outputs": [],
   "source": [
    "# Example SmartSMEAR API calls:\n",
    "\n",
    "urlstring<-\"https://avaa.tdata.fi/smear-services/smeardata.jsp?variables=Pamb0,UV_B&table=HYY_META\n",
    "&from=2016-02-11 00:00:00&to=2016-02-11 00:10:00&quality=ANY&averaging=NONE&type=NONE\"\n",
    "\n",
    "urlstring2<-\"https://avaa.tdata.fi/smear-services/smeardata.jsp?variables=Pamb0,UV_B&table=HYY_META\n",
    "&from=2016-02-11 00:11:00&to=2016-02-11 00:20:00&quality=ANY&averaging=NONE&type=NONE\"\n",
    "\n",
    "urlstring\n",
    "urlstring2"
   ]
  },
  {
   "cell_type": "markdown",
   "metadata": {},
   "source": [
    "\n",
    "The most simple way for retrieving data via SmartSMEAR API is using read.csv which returns the data stream as data frame. It works in basic R without additional libraries:\n"
   ]
  },
  {
   "cell_type": "code",
   "execution_count": null,
   "metadata": {},
   "outputs": [],
   "source": [
    "data<-read.csv(urlstring)\n",
    "\n",
    "data2<-read.csv(urlstring2)\n",
    "\n",
    "class(data)\n",
    "data\n",
    "data2"
   ]
  },
  {
   "cell_type": "code",
   "execution_count": null,
   "metadata": {},
   "outputs": [],
   "source": [
    "# Construct times in POSIX time (seconds)\n",
    "\n",
    "time2<-Sys.time()\n",
    "format(time2,\"%Y-%m-%d %H:%M:%S\")\n",
    "\n",
    "time2<-as.POSIXct(\"2018-10-29 12:00:00\")\n",
    "format(time2,\"%Y-%m-%d %H:%M:%S\")\n",
    "\n",
    "time1<-time2-3600\n",
    "format(time1,\"%Y-%m-%d %H:%M:%S\")"
   ]
  },
  {
   "cell_type": "code",
   "execution_count": null,
   "metadata": {},
   "outputs": [],
   "source": [
    "# Let's try pasting the dates as parameters to form the API call\n",
    "\n",
    "time2<-Sys.time()-86400\n",
    "timestr2<-format(time2,\"%Y-%m-%d %H:%M:%S\")\n",
    "time1<-time2-3600\n",
    "timestr1<-format(time1,\"%Y-%m-%d %H:%M:%S\")\n",
    "\n",
    "urlstring<-paste(\"https://avaa.tdata.fi/smear-services/smeardata.jsp?variables=T168,T672&table=HYY_META&from=\",\n",
    "    timestr1,\"&to=\",timestr2,\n",
    "    \"&quality=ANY&averaging=30MIN&type=ARITHMETIC\",sep=\"\")\n",
    "\n",
    "urlstring\n",
    "\n",
    "data<-read.csv(urlstring)\n",
    "\n",
    "data"
   ]
  },
  {
   "cell_type": "markdown",
   "metadata": {},
   "source": [
    "\n",
    "Below simple function for constructing API call from given parameters and downloading data.\n",
    "Named parameters are used so the user can give table and variables separately or use table.variable notation, give parameters in any order and skip irrelevant parameters.\n",
    "The function employs read.csv which ignores any http return codes or error messages. \n",
    "Therefore, additional parsing of returned data frame is needed. \n",
    "\n",
    "Different types of error affect the returned data in different ways. Be careful and take note of the column names of the returned data frame!\n"
   ]
  },
  {
   "cell_type": "code",
   "execution_count": null,
   "metadata": {},
   "outputs": [],
   "source": [
    "\n",
    "getSmearData<-function(time1,time2,...,dbtable=\"\",dbvariables=list(),dbtablevariables=list(),\n",
    "  quality=\"ANY\",averaging=\"NONE\",avgtype=\"NONE\") {\n",
    "\n",
    "# Simple function for retrieving data from SMEAR database\n",
    "# No input check, error handling etc.\n",
    "# time1 and time2 are start and end times as POSIX time.\n",
    "# Downloaded variables are given as list of table.variable strings (parameter \"dbtablevariables\").\n",
    "# or giving table (string \"dbtable\") and variables (list \"dbvariables\") separately.\n",
    "# Results of the query are returned as data frame (also in case of error).\n",
    "\n",
    "timestr1=as.character(time1,\"%Y-%m-%d %H:%M:%S\")\n",
    "timestr2=as.character(time2,\"%Y-%m-%d %H:%M:%S\")\n",
    "\n",
    "if(length(dbtablevariables)<1) {\n",
    "  urlstring<-paste(\"https://avaa.tdata.fi/smear-services/smeardata.jsp?\",\n",
    "    \"variables=\",paste(dbvariables,collapse=\",\"),\n",
    "    \"&table=\",dbtable,\n",
    "    \"&from=\",timestr1,\n",
    "    \"&to=\",timestr2,\n",
    "    \"&quality=\",quality,\"&averaging=\",averaging,\"&type=\",avgtype,sep=\"\")\n",
    "}\n",
    "else {\n",
    "  urlstring<-paste(\"https://avaa.tdata.fi/smear-services/smeardata.jsp?\",\n",
    "    \"tablevariables=\",paste(dbtablevariables,collapse=\",\"),\n",
    "    \"&from=\",timestr1,\n",
    "    \"&to=\",timestr2,\n",
    "    \"&quality=\",quality,\"&averaging=\",averaging,\"&type=\",avgtype,sep=\"\")\n",
    "}\n",
    "    \n",
    "print(urlstring)\n",
    "    \n",
    "return(read.csv(urlstring))\n",
    "}\n"
   ]
  },
  {
   "cell_type": "code",
   "execution_count": null,
   "metadata": {},
   "outputs": [],
   "source": [
    "# Example data queries:\n",
    "\n",
    "time2<-as.POSIXct(\"2018-10-27 12:00:00\")\n",
    "time1<-time2-3600\n",
    "tablename<-\"HYY_META\"\n",
    "variables_list<-c(\"Pamb0\")\n",
    "tablevariables_list=c(\"HYY_META.Pamb0\")\n",
    "\n",
    "# data1<-getSmearData(time1,time2,dbtable=tablename,dbvariables=variables_list)\n",
    "data1<-getSmearData(time1,time2,dbtablevariables=tablevariables_list)\n",
    "\n",
    "time2<-as.POSIXct(\"2018-10-27 12:00:00\")\n",
    "time1<-time2-3600\n",
    "tablename<-\"HYY_META\"\n",
    "variables_list<-c(\"Pamb0\",\"T672\")\n",
    "avg_time=\"30MIN\"\n",
    "avg_type=\"Arithmetic\"\n",
    "\n",
    "data2<-getSmearData(time1,time2,dbtable=tablename,dbvariables=variables_list,\n",
    "    averaging=avg_time,avgtype=avg_type)\n",
    "\n",
    "data1\n",
    "data2"
   ]
  },
  {
   "cell_type": "markdown",
   "metadata": {},
   "source": [
    "\n",
    "SmartSMEAR API gives http return codes and in most cases also meaningful error messages. Read.csv cannot handle the http codes and also tries to convert the error messages to data frame. Below some examples.\n",
    "\n",
    "Some dedicated http libraries, for instance RCurl, can handle error messages better. \n"
   ]
  },
  {
   "cell_type": "code",
   "execution_count": null,
   "metadata": {
    "scrolled": false
   },
   "outputs": [],
   "source": [
    "# In case of error, API returns meaningful error message\n",
    "# There are also other ways to check if the API call returned any data.\n",
    "\n",
    "time2<-Sys.time()-86400\n",
    "time1<-time2-180\n",
    "\n",
    "# data<-getSmearData(time1,time2,dbtable=\"HYY_XXXX\",dbvariables=c(\"Glob\"))\n",
    "data<-getSmearData(time1,time2,dbtable=\"HYY_META\",dbvariables=c(\"xxxx\"))\n",
    "\n",
    "if(names(data)[1]!=\"Year\" | dim(data)[1]<1) {\n",
    "  print(data)\n",
    "}\n"
   ]
  },
  {
   "cell_type": "code",
   "execution_count": null,
   "metadata": {},
   "outputs": [],
   "source": [
    "# Note when using tablevariables parameter:\n",
    "# If any variable of given table does not exist, no data from that table are returned.\n",
    "\n",
    "time2<-Sys.time()-86400\n",
    "time1<-time2-180\n",
    "\n",
    "data<-getSmearData(time1,time2,dbtablevariables=c(\"HYY_META.Glob\",\"HYY_META.Glob67\",\"SII1_META.Glob\"))\n",
    "data\n",
    "\n",
    "# Glob127 does not exist in HYY_META, only data from SII1_META are returned\n",
    "data<-getSmearData(time1,time2,dbtablevariables=c(\"HYY_META.Glob\",\"HYY_META.Glob127\",\"SII1_META.Glob\"))\n",
    "data\n",
    "\n"
   ]
  },
  {
   "cell_type": "code",
   "execution_count": null,
   "metadata": {},
   "outputs": [],
   "source": [
    "# Sometimes there are missing rows in the database, align the rows with merge\n",
    "# Example: Hyytiälä and Siikaneva 1 meteo data in Feb 2016\n",
    "\n",
    "urlstring<-\"https://avaa.tdata.fi/smear-services/smeardata.jsp?variables=Pamb0,T168&table=HYY_META\n",
    "&from=2016-02-26 23:58:00&to=2016-02-27 00:03:00&quality=ANY&averaging=NONE&type=NONE\"\n",
    "\n",
    "urlstring2<-\"https://avaa.tdata.fi/smear-services/smeardata.jsp?variables=P,T_a&table=SII1_META\n",
    "&from=2016-02-26 23:58:00&to=2016-02-27 00:03:00&quality=ANY&averaging=NONE&type=NONE\"\n",
    "\n",
    "data<-read.csv(urlstring)\n",
    "data\n",
    "\n",
    "data2<-read.csv(urlstring2)\n",
    "data2\n",
    "\n",
    "merge(data,data2,all=TRUE)"
   ]
  },
  {
   "cell_type": "code",
   "execution_count": null,
   "metadata": {
    "scrolled": true
   },
   "outputs": [],
   "source": [
    "# Convert datetime columns to more convenient data type\n",
    "data$datetim<-with(data,ISOdatetime(Year,Month,Day,Hour,Minute,Second))\n",
    "\n",
    "data$datetim\n",
    "\n",
    "data$datetim+86400"
   ]
  }
 ],
 "metadata": {
  "kernelspec": {
   "display_name": "R",
   "language": "R",
   "name": "ir"
  },
  "language_info": {
   "codemirror_mode": "r",
   "file_extension": ".r",
   "mimetype": "text/x-r-source",
   "name": "R",
   "pygments_lexer": "r",
   "version": "3.5.1"
  }
 },
 "nbformat": 4,
 "nbformat_minor": 2
}
