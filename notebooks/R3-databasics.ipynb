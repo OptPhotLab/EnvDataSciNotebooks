{
    "cells": [
        {
            "cell_type": "markdown",
            "metadata": {},
            "source": [
                "# Introduction\n",
                "\n",
                "In this session we will outline a basic environmental data work-flow. Our goal \n",
                "is to highlight common data tasks, and typical ways to solve\n",
                "them in R. \n",
                "\n",
                "\n",
                "When working with environmental data, there are usually a few steps\n",
                "that come up each time. These are:\n",
                "  \n",
                "* **reading**. Typically data is read from text files, but can also come the\n",
                "internet as highlighted in our previous session R2-API.ipynb \n",
                "* **processing**. The data we read is usually a little \n",
                "untidy , for example we may need to subset to correct dates.\n",
                "* **plotting**. Plotting data is always worth doing as early as\n",
                "possible. Use histograms or simple line plots as your first steps\n",
                "in visualising data.  \n",
                "* **analysis**. This step could include performing a statistical analysis or \n",
                "fitting a model.\n",
                "\n",
                "To do these efficiently in R is mainly about learning which\n",
                "functions to use, and how to apply these functions. \n",
                "\n",
                "In this notebook we will work through each step in turn with \n",
                "example data. We will once again work with data downloaded from\n",
                "SMARTSMEAR, in this case we will use flux data measured using the\n",
                "eddy co-variance technique at SMEARII research station. We will use\n",
                "Gross Primary Production (GPP) which is derived from measurements\n",
                "of CO2 exchange, and Evapotranspiration (ET) which is derived from\n",
                "measurements of H2O exchange. \n",
                "\n",
                "Before we start there is one other thing we should mention.In this\n",
                "session we will assume that terms like *function*, *argument* are\n",
                "familiar to you. If they are not then go back to\n",
                "R1-introduction.ipynb, and check the definition. If you cannot find\n",
                "the definition in there then complain to your instructors to update\n",
                "the intro! Alright, let's get started.\n",
                "\n",
                " \n",
                "#1. Reading\n",
                "\n",
                "Reading data takes data from storage (typically your computer's hard\n",
                "disk) and places it somewhere (in RAM) that is can be operated on by R. Our \n",
                "task is to read in our GPP and ET data. \n",
                "\n",
                "We have already downloaded our data as two seperate text files from \n",
                "SMARTSMEAR, and stored these files in the */data* directory (folder) on\n",
                "our github:\n",
                "https://github.com/OptPhotLab/EnvDataSciNotebooks/tree/master/data\n",
                "(You can inspect the data files by clicking the github link, but this\n",
                "could slow your computer right down!)\n",
                "\n",
                "There are a few different functions for reading data in R, these include:\n",
                "\n",
                "* read.csv\n",
                "* read.table\n",
                "* read.delim \n",
                "* read.csv2 \n",
                "\n",
                "We can use **help** to inspect these functions, see what arguments they\n",
                "have, and how to set these arguments so that you can read your\n",
                "data/file in a proper way. \n"
            ]
        },
        {
            "cell_type": "code",
            "execution_count": null,
            "metadata": {},
            "outputs": [],
            "source": [
                "#help(read.csv)\n",
                "\n"
            ]
        },
        {
            "cell_type": "markdown",
            "metadata": {},
            "source": [
                "Let's use *read.csv* to read in our GPP dataset. \n",
                "\n"
            ]
        },
        {
            "cell_type": "code",
            "execution_count": null,
            "metadata": {},
            "outputs": [],
            "source": [
                "gpp<-read.csv('../data/gppsmeardata_20160101120000.csv',header = T,sep = ',',dec='.')\n",
                "\n"
            ]
        },
        {
            "cell_type": "markdown",
            "metadata": {},
            "source": [
                "The double dots **..** in the path tell R to go up a level in the directory (folder) \n",
                "hierarchy.\n",
                "\n",
                "Now try to read the ET data using the same function:\n"
            ]
        },
        {
            "cell_type": "code",
            "execution_count": null,
            "metadata": {},
            "outputs": [],
            "source": [
                "\n",
                "\n"
            ]
        },
        {
            "cell_type": "markdown",
            "metadata": {},
            "source": [
                "It is as simple as that! \n",
                "\n",
                "We have read our data into the memory, the next step is\n",
                "processing. But just before we move on we can use the *head* function to inspect \n",
                "the first few lines of our data object:\n"
            ]
        },
        {
            "cell_type": "code",
            "execution_count": null,
            "metadata": {},
            "outputs": [],
            "source": [
                "head(ET)\n",
                "\n"
            ]
        },
        {
            "cell_type": "markdown",
            "metadata": {},
            "source": [
                "can you also remember how to check the type of our objects?\n",
                "\n"
            ]
        },
        {
            "cell_type": "code",
            "execution_count": null,
            "metadata": {},
            "outputs": [],
            "source": [
                "\n",
                "\n"
            ]
        },
        {
            "cell_type": "markdown",
            "metadata": {},
            "source": [
                "#2. Processing\n",
                "\n",
                "Before we can make any graphs or perform any stats we usually have to tidy our data\n",
                "and there are a bunch of techniques in R that can help out with this. Let's \n",
                "check out a few of them that make life easier.\n",
                "\n",
                "\n",
                "##2.1. Combining \n",
                "\n",
                "We read in two different data files. We can make life easier by combining\n",
                "these into a single dataframe. \n",
                "\n",
                "Use the *by* argument to set which variables are shared.\n"
            ]
        },
        {
            "cell_type": "code",
            "execution_count": null,
            "metadata": {},
            "outputs": [],
            "source": [
                "gpp.ET<-merge(gpp,ET,by=c(\"Year\",\"Month\",\"Day\",\"Hour\",\"Minute\", \"Second\"),all = T)\n",
                "\n"
            ]
        },
        {
            "cell_type": "markdown",
            "metadata": {},
            "source": [
                "Use *head* to check the combination worked:\n",
                "\n"
            ]
        },
        {
            "cell_type": "code",
            "execution_count": null,
            "metadata": {},
            "outputs": [],
            "source": [
                "\n",
                "\n"
            ]
        },
        {
            "cell_type": "markdown",
            "metadata": {},
            "source": [
                "##2.2 Subsetting\n",
                "\n",
                "Often we download much more data than we need. Subsetting using the *subset* function\n",
                "is a useway to restrict our datasets to the bits we are actually interested in.\n",
                "\n",
                "Subset accepts column names as a second argument. You can use subset to \n",
                "extract data for the month of September from *gpp.ET* like this:\n"
            ]
        },
        {
            "cell_type": "code",
            "execution_count": null,
            "metadata": {},
            "outputs": [],
            "source": [
                "gpp.ET.sep <- subset(gpp.ET, Month==9)\n",
                "\n"
            ]
        },
        {
            "cell_type": "markdown",
            "metadata": {},
            "source": [
                "Can you create a new dataframe containing data measured at midday only? \n",
                "\n"
            ]
        },
        {
            "cell_type": "code",
            "execution_count": null,
            "metadata": {},
            "outputs": [],
            "source": [
                "\n",
                "\n"
            ]
        },
        {
            "cell_type": "markdown",
            "metadata": {},
            "source": [
                "Use head to check the dates are correct:\n",
                "\n"
            ]
        },
        {
            "cell_type": "code",
            "execution_count": null,
            "metadata": {},
            "outputs": [],
            "source": [
                "\n",
                "\n"
            ]
        },
        {
            "cell_type": "markdown",
            "metadata": {},
            "source": [
                "Did you notice something odd? The days are not in ascending order. We can\n",
                "sort this out using the following (rather complicated!) line:\n"
            ]
        },
        {
            "cell_type": "code",
            "execution_count": null,
            "metadata": {},
            "outputs": [],
            "source": [
                "gpp.ET.midday <- gpp.ET.midday[with(gpp.ET.midday, order(Year, Month, Day)), ]\n",
                "\n"
            ]
        },
        {
            "cell_type": "markdown",
            "metadata": {},
            "source": [
                "Let's check this has worked out as expected:\n",
                "\n"
            ]
        },
        {
            "cell_type": "code",
            "execution_count": null,
            "metadata": {},
            "outputs": [],
            "source": [
                "\n",
                "\n"
            ]
        },
        {
            "cell_type": "markdown",
            "metadata": {},
            "source": [
                "BTW my solution to sorting was thanks to Google! You can check out a discussion\n",
                "of the various sorting options here:\n",
                "https://stackoverflow.com/questions/1296646/how-to-sort-a-dataframe-by-multiple-columns\n",
                "\n",
                "\n",
                "Now we have a single dataframe with data at our desired midday time-step we \n",
                "can start with our visualisations.\n",
                "\n",
                "\n",
                "#3. Plotting\n",
                "\n",
                "##3.1 Line plot\n",
                "The simplest plot of them all is the dot (or line) plot. The *plot* command is your\n",
                "friend here!\n",
                "\n",
                "Let's see what our GPP data looks like:\n"
            ]
        },
        {
            "cell_type": "code",
            "execution_count": null,
            "metadata": {},
            "outputs": [],
            "source": [
                "plot(gpp.ET.midday$HYY_EDDY233.GPP)\n",
                "\n"
            ]
        },
        {
            "cell_type": "markdown",
            "metadata": {},
            "source": [
                "##3.2 Scatter plot\n",
                "\n",
                "We can also use *plot* to make scatter plots. Use the **~** operator\n",
                "to achieve this e.g. *plot(A~B.Width,data=data.AB)*, where *A* and *B* are our variables\n",
                "and *data.AB* is our dataframe that contains our variables. \n",
                "\n",
                "Try to make a scatter plot between GPP and ET for our midday data:\n"
            ]
        },
        {
            "cell_type": "code",
            "execution_count": null,
            "metadata": {},
            "outputs": [],
            "source": [
                "\n",
                "\n"
            ]
        },
        {
            "cell_type": "markdown",
            "metadata": {},
            "source": [
                "##3.3 histogram\n",
                "\n",
                "Checking the distribution of your data is usually a very good idea! \n",
                "**hist** is used to draw histograms. How is our midday GPP distributed?\n"
            ]
        },
        {
            "cell_type": "code",
            "execution_count": null,
            "metadata": {},
            "outputs": [],
            "source": [
                "hist(gpp.ET.midday$HYY_EDDY233.GPP)\n",
                "\n"
            ]
        },
        {
            "cell_type": "markdown",
            "metadata": {},
            "source": [
                "##3.4 Panels\n",
                "\n",
                "Subplots (multiple plots in the same window) in R are achieved with\n",
                "the panels or *par* command. Simply specify the number of rows and\n",
                "columns as a two element vector and pass it using the *mfrow* key word\n",
                "as an argument to *par* e.g. par(mfrow =(num.row,num.col)), then use\n",
                "repeated calls to *plot* in the usual way.\n",
                "\n",
                "Can you complete the box below to draw ET and GPP in the same window\n",
                "but as separate subplots?We will start you off with the correct:\n"
            ]
        },
        {
            "cell_type": "code",
            "execution_count": null,
            "metadata": {},
            "outputs": [],
            "source": [
                "# swap num.row and num.col for integers *par(mfrow =(num.row,num.col))*\n",
                "par(mfrow = c(2, 1))\n"
            ]
        },
        {
            "cell_type": "markdown",
            "metadata": {},
            "source": [
                " \n",
                "\n",
                "#4. Analysis\n",
                "\n",
                "Our final step is to perform some simple analysis on our data. And because\n",
                "R is the perhaps the language of choice for stats,the possibilities for\n",
                "analyses really are nearly limitless! \n",
                "\n",
                "Although we only look at very simple examples here, your own analyses\n",
                "are likely to be more sophisticated. In this case, it is always a good\n",
                "idea to search online for analysis packages and code before writing\n",
                "your own, as someone else has probably faced your issue before.\n",
                "\n",
                "##4.1. Summary stats\n",
                "\n",
                "Statistics are at the heart of R, so let's use some! We can use the *mean*\n",
                "function on individual columns. We can use *sapply* with *mean* \n",
                "to work out the mean values for each column:\n"
            ]
        },
        {
            "cell_type": "code",
            "execution_count": null,
            "metadata": {},
            "outputs": [],
            "source": [
                "col.means <- sapply(gpp.ET.midday, mean, na.rm=TRUE)\n",
                "print(col.means)\n"
            ]
        },
        {
            "cell_type": "markdown",
            "metadata": {},
            "source": [
                "The *summary* function applies a number of stats over each column. What do we get back \n",
                "when we try out summary on our midday data?\n"
            ]
        },
        {
            "cell_type": "code",
            "execution_count": null,
            "metadata": {},
            "outputs": [],
            "source": [
                "\n",
                "\n"
            ]
        },
        {
            "cell_type": "markdown",
            "metadata": {},
            "source": [
                "##4.2 Linear models\n",
                "\n",
                "Fitting models is a very common thing in environmental science, and the straight\n",
                "line is the most common of them all! To fit a line in R we use  linear model *lm* function:\n",
                "\n",
                "Let's model the relationship between ET and GPP in our midday data:\n"
            ]
        },
        {
            "cell_type": "code",
            "execution_count": null,
            "metadata": {},
            "outputs": [],
            "source": [
                "model.1<-lm(HYY_EDDY233.GPP~HYY_EDDY233.ET_gapf, data=gpp.ET.midday)\n",
                "\n"
            ]
        },
        {
            "cell_type": "markdown",
            "metadata": {},
            "source": "*summary* also works on linear model results, try it below:\n"
        },
        {
            "cell_type": "code",
            "execution_count": null,
            "metadata": {},
            "outputs": [],
            "source": [
                "\n",
                "\n"
            ]
        },
        {
            "cell_type": "markdown",
            "metadata": {},
            "source": [
                "The *abline* function can be used to plot linear models over scatter plots. To try it \n",
                "out, you will need to enter the scatter plot code from section 2 and an \n",
                "abline function call.\n"
            ]
        },
        {
            "cell_type": "code",
            "execution_count": null,
            "metadata": {},
            "outputs": [],
            "source": [
                "\n",
                "\n"
            ]
        },
        {
            "cell_type": "markdown",
            "metadata": {},
            "source": [
                "## A final note on packages\n",
                "\n",
                "In this notebook we relied solely on built-in functionality. In the \n",
                "real world of running scripts on your computer however you should \n",
                "make full use of external packages. We will cover some of the most\n",
                "popular packages in upcoming sessions but for a now a small intro:\n",
                "\n",
                "A great deal of useful functionality in R is found in external\n",
                "*packages*.  These are basically collections of code (functions)\n",
                "written by someone else, and kindly release for our use. Because these\n",
                "are external to our computer and hosted online, they require\n",
                "installation (downloading + building in correct location).\n",
                "\n",
                "When running notebooks in class packages are installed ahead of time, so\n",
                "the actual installation is hidden from view from the user (you).\n",
                "\n",
                "However when you are writing scripts to solve your own problems you\n",
                "may need to install these yourself. For example to install the package\n",
                "*ggplot2* which can be used for making publication quality plots, you\n",
                "would type the command *install.packages('ggplot2')*.  This command\n",
                "then downloads the ggplot2 code to your machine, in a location specified\n",
                "by R.\n",
                "\n",
                "Some packages are also hosted on github, for example you can browse\n",
                "the *ggplot2* source code before you install here:\n",
                "\n",
                "https://github.com/tidyverse/ggplot2\n",
                "\n",
                "Thinking to the future, could you imagine your own code being released as a package? \n",
                "What would be the benefits of this?\n"
            ]
        }
    ],
    "metadata": {
        "anaconda-cloud": "",
        "kernelspec": {
            "display_name": "R",
            "langauge": "R",
            "name": "ir"
        },
        "language_info": {
            "codemirror_mode": "r",
            "file_extension": ".r",
            "mimetype": "text/x-r-source",
            "name": "R",
            "pygments_lexer": "r",
            "version": "3.4.1"
        }
    },
    "nbformat": 4,
    "nbformat_minor": 1
}
