{
    "cells": [
        {
            "cell_type": "markdown",
            "metadata": {},
            "source": [
                "#1. draw and save figures separately using ggplot and lapply \n",
                "\n",
                "read data\n",
                "\n",
                "'Plotting_excercise.csv' is the data from last session (ggplot2-20190304)\n"
            ]
        },
        {
            "cell_type": "code",
            "execution_count": null,
            "metadata": {},
            "outputs": [],
            "source": [
                "testdata<-read.csv('Plotting_excercise.csv',header = T,sep = ';')\n",
                "\n"
            ]
        },
        {
            "cell_type": "markdown",
            "metadata": {},
            "source": [
                "##1.1. check names of the variables\n",
                "\n"
            ]
        },
        {
            "cell_type": "code",
            "execution_count": null,
            "metadata": {},
            "outputs": [],
            "source": [
                "names(testdata)\n",
                "\n"
            ]
        },
        {
            "cell_type": "markdown",
            "metadata": {},
            "source": [
                "we want to plot scatterplot to compare:\n",
                "\n",
                "* RespVar1 vs. VarIndep1\n",
                "\n",
                "* RespVar1 vs. VarIndep2\n",
                "\n",
                "* RespVar1 vs. VarIndep3\n",
                "\n",
                "* RespVar2 vs. VarIndep1\n",
                "\n",
                "* RespVar2 vs. VarIndep2\n",
                "\n",
                "* RespVar2 vs. VarIndep3\n",
                "\n",
                "we have also groups, e.g. \"Treatment\",\"Exp\" ,\"Species\",\"FuncGrp\" \n",
                "\n",
                "##1.2. load package\n"
            ]
        },
        {
            "cell_type": "code",
            "execution_count": null,
            "metadata": {},
            "outputs": [],
            "source": [
                "library(ggplot2,warn.conflicts = F,quietly = T)\n",
                "library(scales,warn.conflicts = F,quietly = T)\n"
            ]
        },
        {
            "cell_type": "markdown",
            "metadata": {},
            "source": [
                "##1.3. build a theme, which will be used throughout the script\n",
                "\n"
            ]
        },
        {
            "cell_type": "code",
            "execution_count": null,
            "metadata": {},
            "outputs": [],
            "source": [
                "mytheme<-\n",
                "  theme_bw()+        \n",
                "  theme(plot.background=element_blank(),\n",
                "        plot.title=element_text(lineheight=0.93,face='bold'),\n",
                "        panel.background=element_blank(),\n",
                "        panel.grid.minor=element_blank(),\n",
                "        panel.grid.major=element_blank(),\n",
                "        panel.border=element_rect(fill=NULL,colour='black',linetype=1),\n",
                "        axis.line=element_line(colour='black',linetype=1),\n",
                "        axis.ticks=element_line(colour='black',linetype=1),\n",
                "        axis.title.y = element_text(face='bold',\n",
                "                                    colour='black',size=15,vjust=1),\n",
                "        axis.text.y  = element_text(colour='black',vjust=0.5, size=10,\n",
                "                                    face = \"bold\"),\n",
                "        axis.title.x = element_text(face='bold',\n",
                "                                    colour='black',size=10,vjust=0.2),\n",
                "        axis.text.x  = element_text(colour='black',angle=0, face = \"bold\",\n",
                "                                    vjust=0.2, size=8),\n",
                "        legend.title=element_blank(),\n",
                "        legend.background=element_blank(),\n",
                "        legend.text =\n",
                "          element_text(colour=\"black\", size = 12, face = \"bold\"),\n",
                "        legend.position='top',\n",
                "        legend.key=element_blank(),\n",
                "        legend.direction=\"horizontal\")\n"
            ]
        },
        {
            "cell_type": "markdown",
            "metadata": {},
            "source": [
                "##1.4. Scatterplot \n",
                "\n",
                "###1.4.1 RespVar1 vs. all VarIndep by group of \"FuncGrp\", named as individual.plot1 \n",
                "\n",
                "* RespVar1 vs. VarIndep1\n",
                "\n",
                "* RespVar1 vs. VarIndep2\n",
                "\n",
                "* RespVar1 vs. VarIndep3\n"
            ]
        },
        {
            "cell_type": "code",
            "execution_count": null,
            "metadata": {},
            "outputs": [],
            "source": [
                "individual.plot1<-\n",
                "  lapply(names(testdata)[9:11], function(i){\n",
                "    ggplot(testdata,aes_string('RespVar1',i))+\n",
                "      geom_point(aes(color=FuncGrp))+\n",
                "      geom_smooth(aes(group=FuncGrp,color=FuncGrp),\n",
                "                 method = 'lm',se=F,size=0.5)+\n",
                "      mytheme})\n"
            ]
        },
        {
            "cell_type": "markdown",
            "metadata": {},
            "source": [
                "check the result\n",
                "\n"
            ]
        },
        {
            "cell_type": "code",
            "execution_count": null,
            "metadata": {},
            "outputs": [],
            "source": [
                "individual.plot1\n",
                "\n"
            ]
        },
        {
            "cell_type": "markdown",
            "metadata": {},
            "source": [
                "###1.4.2 Save individual.plot1 (if this one doesnot work, put it into comment)\n",
                "\n"
            ]
        },
        {
            "cell_type": "code",
            "execution_count": null,
            "metadata": {},
            "outputs": [],
            "source": [
                "invisible(lapply(seq_along(individual.plot1),function(x)\n",
                "  ggsave(filename=paste0(names(testdata)[9:11][x],\".tiff\"),plot=individual.plot1[[x]],\n",
                "         dpi = 600,compression='lzw',height = 3,width = 3)))\n"
            ]
        },
        {
            "cell_type": "markdown",
            "metadata": {},
            "source": [
                "###1.4.3 all RespVar vs. all VarIndep by group of \"FuncGrp\", named as individual.plot2 \n",
                "\n"
            ]
        },
        {
            "cell_type": "code",
            "execution_count": null,
            "metadata": {},
            "outputs": [],
            "source": [
                " individual.plot2<-\n",
                "  lapply(names(testdata)[7:8],function(i){\n",
                "    lapply(names(testdata)[9:11], function(j){\n",
                "      ggplot(testdata,aes_string(i,j))+\n",
                "        geom_point(aes(color=FuncGrp))+\n",
                "        geom_smooth(aes(group=FuncGrp,color=FuncGrp),\n",
                "                   method = 'lm',se=F,size=0.5)+\n",
                "        scale_color_manual(values = c('blue','orange'))+\n",
                "        mytheme})\n",
                "    })\n"
            ]
        },
        {
            "cell_type": "markdown",
            "metadata": {},
            "source": [
                "check the result\n",
                "\n"
            ]
        },
        {
            "cell_type": "code",
            "execution_count": null,
            "metadata": {},
            "outputs": [],
            "source": [
                "individual.plot2\n",
                "\n"
            ]
        },
        {
            "cell_type": "markdown",
            "metadata": {},
            "source": [
                "###1.4.4 Save individual.plot2  (if this one doesnot work, put it into comment)\n",
                "\n"
            ]
        },
        {
            "cell_type": "code",
            "execution_count": null,
            "metadata": {},
            "outputs": [],
            "source": [
                "invisible(\n",
                "  lapply(seq_along(individual.plot2),function(x){\n",
                "    lapply(seq_along(individual.plot2[[x]]),function(y){\n",
                "      ggsave(filename=paste0(names(testdata)[7:8][x],'_',\n",
                "                             names(testdata)[9:11][y],\".tiff\"),\n",
                "             plot=individual.plot2[[x]][[y]],\n",
                "             dpi = 600,compression='lzw',height = 3,width = 3)})}))\n"
            ]
        },
        {
            "cell_type": "markdown",
            "metadata": {},
            "source": [
                "###1.4.5 all RespVar vs. all VarIndep by group of 'Species' and \"FuncGrp\", named as individual.plot3\n",
                "\n"
            ]
        },
        {
            "cell_type": "code",
            "execution_count": null,
            "metadata": {},
            "outputs": [],
            "source": [
                " individual.plot3<-\n",
                "  lapply(names(testdata)[7:8],function(i){\n",
                "    lapply(names(testdata)[9:11], function(j){\n",
                "      ggplot(testdata,aes_string(i,j))+\n",
                "        facet_grid(Species~.,scales = 'free')+\n",
                "        geom_point(aes(color=FuncGrp))+\n",
                "        geom_smooth(aes(group=FuncGrp,color=FuncGrp),\n",
                "                    method = 'lm',se=F,size=0.5)+\n",
                "        scale_color_manual(values = c('blue','orange'))+\n",
                "        mytheme})\n",
                "    })\n"
            ]
        },
        {
            "cell_type": "markdown",
            "metadata": {},
            "source": [
                "check the result\n",
                "\n"
            ]
        },
        {
            "cell_type": "code",
            "execution_count": null,
            "metadata": {},
            "outputs": [],
            "source": [
                "individual.plot3\n",
                "\n"
            ]
        },
        {
            "cell_type": "markdown",
            "metadata": {},
            "source": [
                "###1.4.6 Save individual.plot3 (if this one doesnot work, put it into comment)\n",
                "\n"
            ]
        },
        {
            "cell_type": "code",
            "execution_count": null,
            "metadata": {},
            "outputs": [],
            "source": [
                "invisible(\n",
                "  lapply(seq_along(individual.plot3),function(x){\n",
                "    lapply(seq_along(individual.plot3[[x]]),function(y){\n",
                "      ggsave(filename=paste0('Species_',\n",
                "                             names(testdata)[7:8][x],'_',\n",
                "                             names(testdata)[9:11][y],\n",
                "                             \".tiff\"),\n",
                "             plot=individual.plot3[[x]][[y]],\n",
                "             dpi = 600,compression='lzw',height = 5,width = 3)})}))\n"
            ]
        },
        {
            "cell_type": "markdown",
            "metadata": {},
            "source": [
                "###1.4.7 all RespVar vs. all VarIndep by group of 'Species' and \"FuncGrp\", named as individual.plot4\n",
                "\n"
            ]
        },
        {
            "cell_type": "code",
            "execution_count": null,
            "metadata": {},
            "outputs": [],
            "source": [
                " individual.plot4<-\n",
                "  lapply(names(testdata)[7:8],function(i){\n",
                "    lapply(names(testdata)[9:11], function(j){\n",
                "      ggplot(testdata,aes_string(i,j))+\n",
                "        facet_grid(Species~Exp,scales = 'free')+\n",
                "        geom_point(aes(color=FuncGrp))+\n",
                "        geom_smooth(aes(group=FuncGrp,color=FuncGrp),\n",
                "                    method = 'lm',se=F,size=0.5)+\n",
                "        scale_color_manual(values = c('blue','orange'))+\n",
                "        mytheme})\n",
                "    })\n"
            ]
        },
        {
            "cell_type": "markdown",
            "metadata": {},
            "source": [
                "check the result\n",
                "\n"
            ]
        },
        {
            "cell_type": "code",
            "execution_count": null,
            "metadata": {},
            "outputs": [],
            "source": [
                "individual.plot4\n",
                "\n"
            ]
        },
        {
            "cell_type": "markdown",
            "metadata": {},
            "source": [
                "###1.4.8 Save individual.plot4 (if this one doesnot work, put it into comment)\n",
                "\n"
            ]
        },
        {
            "cell_type": "code",
            "execution_count": null,
            "metadata": {},
            "outputs": [],
            "source": [
                "invisible(\n",
                "  lapply(seq_along(individual.plot4),function(x){\n",
                "    lapply(seq_along(individual.plot4[[x]]),function(y){\n",
                "      ggsave(filename=paste0('Species_Exp_',\n",
                "                             names(testdata)[7:8][x],'_',\n",
                "                             names(testdata)[9:11][y],\n",
                "                             \".tiff\"),\n",
                "             plot=individual.plot4[[x]][[y]],\n",
                "             dpi = 600,compression='lzw',height = 6,width = 8)})}))\n"
            ]
        },
        {
            "cell_type": "markdown",
            "metadata": {},
            "source": [
                "#2. plot correlation matrix\n",
                "\n",
                "\n",
                "use chart.Correlation() function from 'PerformanceAnalytics'\n"
            ]
        },
        {
            "cell_type": "code",
            "execution_count": null,
            "metadata": {},
            "outputs": [],
            "source": [
                "library(PerformanceAnalytics)\n",
                "chart.Correlation(testdata[,7:11],histogram=F, pch=19,cex=0.2,na.action=na.omit)\n"
            ]
        },
        {
            "cell_type": "markdown",
            "metadata": {},
            "source": [
                "plot correlation matrix by groups of Treatment and FuncGrp\n",
                "\n",
                "results should be followed by \n",
                "\n",
                "figure 1: treat1*FG1\n",
                "figure 2: treat1*FG2\n",
                "figure 3: treat2*FG1\n",
                "figure 4: treat2*FG2\n"
            ]
        },
        {
            "cell_type": "code",
            "execution_count": null,
            "metadata": {},
            "outputs": [],
            "source": [
                "test.subset<-\n",
                "  lapply(levels(testdata$Treatment),function(i){ \n",
                "  lapply(levels(testdata$FuncGrp),function(j){\n",
                "        chart.Correlation(\n",
                "          testdata[testdata$Treatment==i&\n",
                "                   testdata$FuncGrp==j,7:11],\n",
                "          histogram=F, pch=19,cex=0.2)\n",
                "        })\n",
                "      })\n"
            ]
        },
        {
            "cell_type": "markdown",
            "metadata": {},
            "source": [
                "use rcorr() from 'Hmisc' package for obtaining correlation matrix\n",
                "\n"
            ]
        },
        {
            "cell_type": "code",
            "execution_count": null,
            "metadata": {},
            "outputs": [],
            "source": [
                "library(Hmisc)\n",
                "lrm.resul<-rcorr(as.matrix(testdata[,7:11]))\n"
            ]
        },
        {
            "cell_type": "markdown",
            "metadata": {},
            "source": [
                "check the structure of lrm.result\n",
                "\n"
            ]
        },
        {
            "cell_type": "code",
            "execution_count": null,
            "metadata": {},
            "outputs": [],
            "source": [
                "str(lrm.resul)\n",
                "\n"
            ]
        },
        {
            "cell_type": "markdown",
            "metadata": {},
            "source": [
                "plot correlation matrix by using corrplot() function from 'corrplot' package\n",
                "\n"
            ]
        },
        {
            "cell_type": "code",
            "execution_count": null,
            "metadata": {},
            "outputs": [],
            "source": [
                "library(corrplot)\n",
                "# r value\n",
                "corrplot(lrm.resul$r,method='col',tl.cex = 1, tl.col='black',cl.cex=1,\n",
                "         #addCoef.col = \"black\",\n",
                "         col= colorRampPalette(c(\"#D6604D\", \"#F4A582\", \"#FDDBC7\",\n",
                "        \"#FFFFFF\", \"#D1E5F0\", \"#92C5DE\", \"#4393C3\"))(10))\n"
            ]
        },
        {
            "cell_type": "markdown",
            "metadata": {},
            "source": "\n"
        },
        {
            "cell_type": "markdown",
            "metadata": {},
            "source": "\n"
        }
    ],
    "metadata": {
        "anaconda-cloud": "",
        "kernelspec": {
            "display_name": "R",
            "langauge": "R",
            "name": "ir"
        },
        "language_info": {
            "codemirror_mode": "r",
            "file_extension": ".r",
            "mimetype": "text/x-r-source",
            "name": "R",
            "pygments_lexer": "r",
            "version": "3.4.1"
        }
    },
    "nbformat": 4,
    "nbformat_minor": 1
}
