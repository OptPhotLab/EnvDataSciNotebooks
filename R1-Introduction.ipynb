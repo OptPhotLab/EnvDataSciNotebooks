{
    "cells": [
        {
            "cell_type": "markdown",
            "metadata": {},
            "source": [
                "#1.variables and Arithmetic Operators and logical Operators\n",
                "\n",
                "A variable is something that .... This is how we assign a variable.\n",
                "\n",
                "A variable has a type, \n",
                "\n",
                "**+**, **-**, * ,**/**,**=** \n"
            ]
        },
        {
            "cell_type": "code",
            "execution_count": null,
            "metadata": {},
            "outputs": [],
            "source": [
                "\n",
                "\n"
            ]
        },
        {
            "cell_type": "markdown",
            "metadata": {},
            "source": [
                "we can use operator to...\n",
                "\n"
            ]
        },
        {
            "cell_type": "code",
            "execution_count": null,
            "metadata": {},
            "outputs": [],
            "source": [
                "\n",
                "\n"
            ]
        },
        {
            "cell_type": "markdown",
            "metadata": {},
            "source": [
                "#2. Basic data structure\n",
                "\n",
                "vector, factor,list\n",
                "\n",
                "\n",
                "\n",
                "#3. Conditions using vector\n",
                "\n",
                "\n",
                "\n",
                "#4. Advanced data structure: Dataframe and Matrices\n",
                "\n",
                "The main data structure we use in R \n",
                "\n",
                "#5. Functions and Applying functions\n"
            ]
        }
    ],
    "metadata": {
        "anaconda-cloud": "",
        "kernelspec": {
            "display_name": "R",
            "langauge": "R",
            "name": "ir"
        },
        "language_info": {
            "codemirror_mode": "r",
            "file_extension": ".r",
            "mimetype": "text/x-r-source",
            "name": "R",
            "pygments_lexer": "r",
            "version": "3.4.1"
        }
    },
    "nbformat": 4,
    "nbformat_minor": 1
}
